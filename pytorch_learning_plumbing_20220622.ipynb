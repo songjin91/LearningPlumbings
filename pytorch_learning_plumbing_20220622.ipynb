{
  "cells": [
    {
      "cell_type": "markdown",
      "metadata": {
        "id": "xsPmOVzvNi_v"
      },
      "source": [
        "# 1. Setup"
      ]
    },
    {
      "cell_type": "code",
      "execution_count": 1,
      "metadata": {
        "colab": {
          "base_uri": "https://localhost:8080/"
        },
        "id": "DU8f0R92uq1w",
        "outputId": "2f3011b8-8915-41f9-e6f2-898d75672ca9"
      },
      "outputs": [
        {
          "output_type": "stream",
          "name": "stdout",
          "text": [
            "Looking in indexes: https://pypi.org/simple, https://us-python.pkg.dev/colab-wheels/public/simple/\n",
            "Requirement already satisfied: torch in /usr/local/lib/python3.7/dist-packages (1.11.0+cu113)\n",
            "Requirement already satisfied: typing-extensions in /usr/local/lib/python3.7/dist-packages (from torch) (4.1.1)\n",
            "1.11.0+cu113\n"
          ]
        }
      ],
      "source": [
        "#@title Install required packages. { form-width: \"320px\" }\n",
        "!pip install torch\n",
        "\n",
        "import os\n",
        "import torch\n",
        "os.environ['TORCH'] = torch.__version__\n",
        "print(torch.__version__)\n",
        "\n",
        "!pip install -q torch-scatter -f https://data.pyg.org/whl/torch-${TORCH}.html\n",
        "!pip install -q torch-sparse -f https://data.pyg.org/whl/torch-${TORCH}.html\n",
        "!pip install -q git+https://github.com/pyg-team/pytorch_geometric.git\n",
        "\n",
        "#!pip install tensorboardX"
      ]
    },
    {
      "cell_type": "code",
      "execution_count": 2,
      "metadata": {
        "id": "7emak32btY-b"
      },
      "outputs": [],
      "source": [
        "#@title Import dependencies { form-width: \"320px\" }\n",
        "import numpy as np\n",
        "import networkx as nx\n",
        "import matplotlib.pyplot as plt\n",
        "import torch_geometric\n",
        "from torch_geometric.utils.convert import from_networkx, to_networkx\n",
        "from torch_geometric.utils import to_dense_adj\n",
        "from torch_geometric.data import Data\n",
        "from torch_geometric.loader import DataLoader\n",
        "\n",
        "import torch.nn as nn\n",
        "import torch.nn.functional as F\n",
        "\n",
        "import torch_geometric.nn as pyg_nn"
      ]
    },
    {
      "cell_type": "markdown",
      "metadata": {
        "id": "pCqO7jKaOvqg"
      },
      "source": [
        "# 2. Handling Plumbing Graphs\n",
        "Let us define some functions to deal with plumbing graphs."
      ]
    },
    {
      "cell_type": "code",
      "execution_count": 3,
      "metadata": {
        "id": "of9ljOaTtUd1"
      },
      "outputs": [],
      "source": [
        "#@title A Function to create a graph from numpy dense arrays { form-width: \"320px\" }\n",
        "def create_graph(x, a, y = None):\n",
        "    # Create a graph as a `Data` object implemented in PyG (Pytorch Geometric) from node features `x` and\n",
        "    # adjacency matrix `a`.\n",
        "    # `x` and `a` are supposed to be dense numpy arrays.\n",
        "    pyg_graph = Data()\n",
        "    nx_graph = nx.from_numpy_matrix(a) # create a 'networkx' graph from a dense adjacency matrix 'a'\n",
        "    pyg_graph = from_networkx(nx_graph) # convert a networkx graph into a pyg graph \n",
        "    pyg_graph.weight = None\n",
        "    pyg_graph.x = torch.tensor(x.reshape(-1, 1), dtype = torch.float32) # feeding node features\n",
        "    #pyg_graph.y = y # feeding labels\n",
        "    return pyg_graph"
      ]
    },
    {
      "cell_type": "code",
      "execution_count": 4,
      "metadata": {
        "id": "noB2xby-r4uQ"
      },
      "outputs": [],
      "source": [
        "#@title A Fuction for Neumann moves { form-width: \"320px\" }\n",
        "def neumann_move(g_graph, neuman_move_type = np.random.randint(1,4)):\n",
        "    # This function returns a graph obtained by applying a Neumann move to the input graph `g_graph`.\n",
        "    # `g_graph` is an instance of `Data` object.\n",
        "    # `neuman_move_type` denotes the type of Neumann move to be applied. Its values are integers from 1 to 3.\n",
        "    # The default value of `neuman_move_type` is a random integer from 1 to 3.\n",
        "\n",
        "    # Step 1: Get node features and adjacency matrix as numpy dense arrays.\n",
        "    node_label = g_graph.x.numpy()\n",
        "    node_label = node_label.flatten()\n",
        "    #graph_y = g_graph.y\n",
        "    n = len(node_label)\n",
        "    if n == 1:\n",
        "        adjacency = np.zeros((1,1))\n",
        "    else:\n",
        "        adjacency = to_dense_adj(g_graph.edge_index)\n",
        "        adjacency = adjacency.numpy()[0, :, :]\n",
        "\n",
        "    # Step 2: Randomly choose a vertex to which a Neumann move will be applied, and find vertices directly connected to\n",
        "    #         the chosen vertex\n",
        "    chosen_vertex = np.random.randint(0, n)\n",
        "    linked_vs=[]\n",
        "    for j in range(n):\n",
        "        if adjacency[chosen_vertex, j] == 1:\n",
        "            linked_vs = np.append(linked_vs, j)\n",
        "    linked_vs = np.array(linked_vs, dtype=int)\n",
        "\n",
        "    sign = 1 if np.random.random() < 0.5 else -1 # Sign for Neumann moves of types 1 and 2\n",
        "\n",
        "    # If a graph consists of single vertex, then the available types of Neumann moves are 2 and 3.\n",
        "    if len(linked_vs) == 0:\n",
        "        neuman_move_type = 2 if np.random.random() < 0.5 else 3\n",
        "    \n",
        "    # Step 3: Apply Neumann moves to the chosen vertex\n",
        "    if neuman_move_type == 1:\n",
        "        chosen_linked_vertex = linked_vs[np.random.randint(0, len(linked_vs))]\n",
        "        node_label = np.append(node_label, sign)\n",
        "        node_label[chosen_vertex] = node_label[chosen_vertex] + sign\n",
        "        node_label[chosen_linked_vertex] = node_label[chosen_linked_vertex] + sign\n",
        "        adjacency = np.append(adjacency, np.zeros((n, 1)), axis = 1)\n",
        "        adjacency[chosen_vertex, n] = adjacency[chosen_linked_vertex, n ] = 1\n",
        "        adjacency = np.append(adjacency, np.zeros((1, n + 1)), axis = 0)\n",
        "        adjacency[n, chosen_vertex] = adjacency[n, chosen_linked_vertex] = 1\n",
        "        adjacency[chosen_vertex, chosen_linked_vertex] = adjacency[chosen_linked_vertex, chosen_vertex] = 0\n",
        "    elif neuman_move_type == 2:\n",
        "        node_label = np.append(node_label, sign)\n",
        "        node_label[chosen_vertex] = node_label[chosen_vertex] + sign\n",
        "        adjacency = np.append(adjacency, np.zeros((n, 1)), axis = 1)\n",
        "        adjacency[chosen_vertex, n] = 1\n",
        "        adjacency = np.append(adjacency, np.zeros((1, n + 1)), axis = 0)\n",
        "        adjacency[n, chosen_vertex] = 1        \n",
        "    elif neuman_move_type == 3:\n",
        "        node_label = np.append(node_label, 0)\n",
        "        node_diff = np.random.randint(-20, 20)\n",
        "        node_label = np.append(node_label, node_diff)\n",
        "        node_label[chosen_vertex] = node_label[chosen_vertex] - node_diff\n",
        "        adjacency = np.append(adjacency, np.zeros((n, 1)), axis = 1)\n",
        "        adjacency = np.append(adjacency, np.zeros((1, n + 1)), axis = 0)\n",
        "        adjacency = np.append(adjacency, np.zeros((n + 1, 1)), axis = 1)\n",
        "        adjacency = np.append(adjacency, np.zeros((1, n + 2)), axis = 0)\n",
        "        adjacency[chosen_vertex, n] = adjacency[n, chosen_vertex] = 1\n",
        "        adjacency[n, n + 1] = adjacency[n + 1, n] = 1\n",
        "        if len(linked_vs) > 0:\n",
        "            np.random.shuffle(linked_vs)\n",
        "            n_split = np.random.randint(0, len(linked_vs))\n",
        "            if n_split != 0 or n_split != len(linked_vs)-1:\n",
        "                linked_chosen_2 = linked_vs[n_split:]\n",
        "                for i in linked_chosen_2:\n",
        "                    adjacency[chosen_vertex, i] = adjacency[i, chosen_vertex] = 0\n",
        "                    adjacency[n + 1, i] = adjacency[i, n + 1] = 1\n",
        "    # Output\n",
        "    node_label = node_label.reshape(-1, 1)\n",
        "    return create_graph(node_label, adjacency)"
      ]
    },
    {
      "cell_type": "code",
      "execution_count": 5,
      "metadata": {
        "id": "JudECDAdM3R_"
      },
      "outputs": [],
      "source": [
        "#@title A Function to Plot a Graph { form-width: \"320px\" }\n",
        "def plot_graph(pyg_graph):\n",
        "    # First convert a PyG graph to a `networkx` graph, then plot the graph by using `nx.draw` function.\n",
        "    # Config \n",
        "    plt.figure(figsize=(7,7))\n",
        "    plt.xticks([])\n",
        "    plt.yticks([])\n",
        "\n",
        "    g = to_networkx(pyg_graph, to_undirected=True) #convert to networkx graph\n",
        "\n",
        "    labeldict = {} # node labels in the plot\n",
        "    for i in range(pyg_graph.num_nodes):\n",
        "        labeldict[i]=pyg_graph.x[i].item()\n",
        "    # Plot\n",
        "    pos_nodes = nx.kamada_kawai_layout(g)\n",
        "    pos_attrs = {}\n",
        "    for node, coords in pos_nodes.items():\n",
        "        pos_attrs[node] = (coords[0], coords[1] + 0.08)\n",
        "    nx.draw(g, pos_nodes, node_color='black', node_size=30)\n",
        "    nx.draw_networkx_labels(g, pos_attrs, labels=labeldict)\n",
        "    plt.show()"
      ]
    },
    {
      "cell_type": "code",
      "execution_count": 6,
      "metadata": {
        "id": "_Ms1KG9YNfue"
      },
      "outputs": [],
      "source": [
        "#@title Creating a random Graph { form-width: \"320px\" }\n",
        "def random_graph():\n",
        "    # Returns a random graph (plumbing TREE) as an instance of `Data` object of PyG.\n",
        "    # `n` : number of nodes, a random integer from 1 to 14\n",
        "    # `x` : node features, an numpy array of random integers from -10 to 9\n",
        "    # `a` : adjacency matrix\n",
        "    n = np.random.randint(1, 15)\n",
        "    x = np.random.randint(-10, 10, size = n)\n",
        "    a=np.zeros((n, n))\n",
        "    for i in range(1,n):\n",
        "        j=np.random.randint(i)\n",
        "        a[i,j]=a[j,i]=1\n",
        "    return create_graph(x, a)"
      ]
    },
    {
      "cell_type": "markdown",
      "metadata": {
        "id": "Txf-OI2eawIY"
      },
      "source": [
        "As an example, we are trying to create a random graph by using `random_graph()` function and plot it by the function named `plot_graph()`."
      ]
    },
    {
      "cell_type": "code",
      "execution_count": 7,
      "metadata": {
        "colab": {
          "base_uri": "https://localhost:8080/",
          "height": 823
        },
        "id": "rii780xfOU8A",
        "outputId": "1a36c3e2-7f0a-4e3f-ee58-672dcf0b9410"
      },
      "outputs": [
        {
          "output_type": "display_data",
          "data": {
            "text/plain": [
              "<Figure size 504x504 with 1 Axes>"
            ],
            "image/png": "[encoded data removed]"
          },
          "metadata": {}
        },
        {
          "output_type": "display_data",
          "data": {
            "text/plain": [
              "<Figure size 504x504 with 1 Axes>"
            ],
            "image/png": "[encoded data removed]"
          },
          "metadata": {}
        },
        {
          "output_type": "stream",
          "name": "stdout",
          "text": [
            "Data(edge_index=[2, 16], num_nodes=9, x=[9, 1])\n"
          ]
        }
      ],
      "source": [
        "#@title An Example { form-width: \"320px\" }\n",
        "g_graph = random_graph()\n",
        "plot_graph(g_graph)\n",
        "g1_graph = neumann_move(g_graph)\n",
        "plot_graph(g1_graph)\n",
        "print(g1_graph)"
      ]
    },
    {
      "cell_type": "markdown",
      "metadata": {
        "id": "9yW469JjTr_G"
      },
      "source": [
        "# 3. Preparing Datasets"
      ]
    },
    {
      "cell_type": "code",
      "execution_count": 8,
      "metadata": {
        "id": "zKOrTLX5SuJY"
      },
      "outputs": [],
      "source": [
        "#@title Defining PairData as a subclass of Data for storing two graphs { form-width: \"320px\" }\n",
        "class PairData(Data):\n",
        "    def __init__(self, edge_index_s=None, x_s=None, edge_index_t=None, x_t=None, y = None):\n",
        "        super().__init__()\n",
        "        self.edge_index_s = edge_index_s\n",
        "        self.x_s = x_s\n",
        "        self.edge_index_t = edge_index_t\n",
        "        self.x_t = x_t\n",
        "        self.y = y\n",
        "    def __inc__(self, key, value, *args, **kwargs):\n",
        "        if key == 'edge_index_s':\n",
        "            return self.x_s.size(0)\n",
        "        if key == 'edge_index_t':\n",
        "            return self.x_t.size(0)\n",
        "        else:\n",
        "            return super().__inc__(key, value, *args, **kwargs)"
      ]
    },
    {
      "cell_type": "code",
      "execution_count": 9,
      "metadata": {
        "id": "x1DyKTgdVSzz"
      },
      "outputs": [],
      "source": [
        "#@title Generate a random dataset { form-width: \"320px\" }\n",
        "def generate_dataset(n_pairs = 50, n_moves = 11):\n",
        "    data_list = []\n",
        "    \n",
        "    for j in range(0, n_pairs):\n",
        "      pos = 1 if np.random.random() < 0.5 else -1\n",
        "      g1 = random_graph()\n",
        "      #for i in range(np.random.randint(1,n_moves)):\n",
        "      #  g1 = neumann_move(g1)\n",
        "      if pos == 1:\n",
        "        g2 = g1\n",
        "        for i in range(np.random.randint(1, n_moves)):\n",
        "          g1 = neumann_move(g1)\n",
        "        for i in range(np.random.randint(1, n_moves)):\n",
        "          g2 = neumann_move(g2)\n",
        "      else:\n",
        "        g2 = random_graph()\n",
        "        for i in range(np.random.randint(1, n_moves)):\n",
        "          g1 = neumann_move(g1)\n",
        "        for i in range(np.random.randint(1, n_moves)):\n",
        "          g2 = neumann_move(g2)\n",
        "      #y = torch.tensor([pos]).unsqueeze(1)\n",
        "      if pos == 1:\n",
        "        y = torch.tensor([pos])\n",
        "      else:\n",
        "        y = torch.tensor([0])\n",
        "      \n",
        "      # Normalize\n",
        "      g1.x = F.normalize(g1.x, p = 2, dim = 0)\n",
        "      g2.x = F.normalize(g2.x, p = 2, dim = 0)\n",
        "\n",
        "      # Save\n",
        "      data_list.append(PairData(g1.edge_index, g1.x, g2.edge_index, g2.x, y))\n",
        "    return data_list"
      ]
    },
    {
      "cell_type": "code",
      "execution_count": 10,
      "metadata": {
        "id": "EIlzvEqj4mrt"
      },
      "outputs": [],
      "source": [
        "#@title Create Sets for training and testing { form-width: \"320px\" }\n",
        "\n",
        "dataset = generate_dataset(n_pairs = 8000, n_moves = 2)\n",
        "data_size = len(dataset)\n",
        "train_loader = DataLoader(dataset[:int(data_size * 0.8)], batch_size=32, shuffle=True, follow_batch=['x_s', 'x_t'])\n",
        "test_loader = DataLoader(dataset[int(data_size * 0.8):], batch_size=32, shuffle=True, follow_batch=['x_s', 'x_t'])"
      ]
    },
    {
      "cell_type": "code",
      "source": [
        "average_nodes = int(sum(g_pair.x_s.size(0)+g_pair.x_t.size(0) for g_pair in dataset)/len(dataset))"
      ],
      "metadata": {
        "id": "5CjKX-tWgM_9"
      },
      "execution_count": 11,
      "outputs": []
    },
    {
      "cell_type": "markdown",
      "metadata": {
        "id": "bDdNI1qsnPpo"
      },
      "source": [
        "# 4. Several Models and Testing"
      ]
    },
    {
      "cell_type": "markdown",
      "metadata": {
        "id": "aMZkYOdVdQ2b"
      },
      "source": [
        "## 4.2 Model (2) - GCNConv Layers"
      ]
    },
    {
      "cell_type": "code",
      "execution_count": 12,
      "metadata": {
        "colab": {
          "base_uri": "https://localhost:8080/"
        },
        "id": "I-Wbk7KYXzPz",
        "outputId": "7eb7c281-7094-46bc-b9c7-be35af9e88af"
      },
      "outputs": [
        {
          "output_type": "stream",
          "name": "stdout",
          "text": [
            "GCN(\n",
            "  (conv1): GCNConv(1, 32)\n",
            "  (pool1): Linear(in_features=32, out_features=13, bias=True)\n",
            "  (conv2): DenseGraphConv(32, 32)\n",
            "  (pool2): Linear(in_features=32, out_features=10, bias=True)\n",
            "  (conv3): DenseGraphConv(32, 32)\n",
            "  (lin1): Linear(in_features=64, out_features=32, bias=True)\n",
            "  (lin2): Linear(in_features=32, out_features=2, bias=True)\n",
            ")\n"
          ]
        }
      ],
      "source": [
        "#@title Making 'GCN' model with GCNConv layers { form-width: \"320px\" }\n",
        "from torch_geometric.nn import DenseGraphConv, GCNConv, dense_mincut_pool, global_mean_pool\n",
        "from torch_geometric.utils import to_dense_adj, to_dense_batch\n",
        "from math import ceil\n",
        "\n",
        "class GCN(torch.nn.Module):\n",
        "    def __init__(self, hidden_channels):\n",
        "        super(GCN, self).__init__()\n",
        "        torch.manual_seed(12345)\n",
        "\n",
        "        self.conv1 = GCNConv(1, hidden_channels)\n",
        "        num_nodes = ceil(0.75 * average_nodes)\n",
        "        self.pool1 = nn.Linear(hidden_channels, num_nodes)\n",
        "        \n",
        "        self.conv2 = DenseGraphConv(hidden_channels, hidden_channels)\n",
        "        num_nodes = ceil(0.75 * num_nodes)\n",
        "        self.pool2 = nn.Linear(hidden_channels, num_nodes)\n",
        "\n",
        "        self.conv3 = DenseGraphConv(hidden_channels, hidden_channels)\n",
        "        \n",
        "        self.lin1 = nn.Linear(2*hidden_channels, hidden_channels)\n",
        "        self.lin2 = nn.Linear(hidden_channels, 2)\n",
        "\n",
        "    def forward(self, data):\n",
        "        # 1. Obtain node embeddings for x_s\n",
        "        x_s = self.conv1(data.x_s, data.edge_index_s)\n",
        "        x_s = x_s.relu()\n",
        "\n",
        "        x_s, mask = to_dense_batch(x_s, data.x_s_batch)\n",
        "        a_s = to_dense_adj(data.edge_index_s, data.x_s_batch)\n",
        "        \n",
        "        s = self.pool1(x_s)\n",
        "        x_s, a_s, mc1, o1 = dense_mincut_pool(x_s, a_s, s, mask)\n",
        "        \n",
        "        x_s = self.conv2(x_s, a_s)\n",
        "        x_s = x_s.relu()\n",
        "        s = self.pool2(x_s)\n",
        "        x_s, a_s, mc2, o2 = dense_mincut_pool(x_s, a_s, s)\n",
        "\n",
        "        x_s = self.conv3(x_s, a_s)\n",
        "\n",
        "        # 2. Obtain node embeddings for x_t\n",
        "        x_t = self.conv1(data.x_t, data.edge_index_t)\n",
        "        x_t = x_t.relu()\n",
        "\n",
        "        x_t, mask = to_dense_batch(x_t, data.x_t_batch)\n",
        "        a_t = to_dense_adj(data.edge_index_t, data.x_t_batch)\n",
        "        \n",
        "        s = self.pool1(x_t)\n",
        "        x_t, a_t, mc3, o3 = dense_mincut_pool(x_t, a_t, s, mask)\n",
        "        \n",
        "        x_t = self.conv2(x_t, a_t)\n",
        "        x_t = x_t.relu()\n",
        "        s = self.pool2(x_t)\n",
        "        x_t, a_t, mc4, o4 = dense_mincut_pool(x_t, a_t, s)\n",
        "\n",
        "        x_t = self.conv3(x_t, a_t)\n",
        "\n",
        "        # 3. Readout layer\n",
        "        x_s = x_s.mean(dim = 1)\n",
        "        x_t = x_t.mean(dim = 1)\n",
        "        x = torch.cat((x_s, x_t), dim = 1)\n",
        "\n",
        "        # 4. Apply a final classifier\n",
        "        x = F.dropout(x, p=0.5, training=self.training)\n",
        "        x = self.lin1(x).relu()\n",
        "        x = self.lin2(x)\n",
        "        \n",
        "        return x, mc1 + mc2 + mc3 + mc4, o1 + o2 + o3 + o4\n",
        "\n",
        "model_2 = GCN(hidden_channels=32)\n",
        "print(model_2)"
      ]
    },
    {
      "cell_type": "code",
      "execution_count": 13,
      "metadata": {
        "id": "WDreK1OddbQX"
      },
      "outputs": [],
      "source": [
        "#@title Train and Test Functions { form-width: \"320px\" }\n",
        "def train():\n",
        "    model.train()\n",
        "    \n",
        "    for data in train_loader:  # Iterate in batches over the training dataset.\n",
        "         optimizer.zero_grad()\n",
        "         x, mc_loss, o_loss = model(data)  # Perform a single forward pass.\n",
        "         loss = criterion(x, data.y) + mc_loss + o_loss  # Compute the loss.\n",
        "         \n",
        "         loss.backward()  # Derive gradients.\n",
        "         optimizer.step()  # Update parameters based on gradients.\n",
        "         #optimizer.zero_grad()  # Clear gradients.\n",
        "\n",
        "def test(loader):\n",
        "  model.eval()\n",
        "  correct = 0\n",
        "  #loss = 0\n",
        "  for data in loader:  # Iterate in batches over the training/test dataset.\n",
        "      out, _, _ = model(data)  \n",
        "      pred = out.argmax(dim=1)  # Use the class with highest probability.\n",
        "      correct += int((pred == data.y).sum())  # Check against ground-truth labels.\n",
        "  return correct / len(loader.dataset)  # Derive ratio of correct predictions."
      ]
    },
    {
      "cell_type": "code",
      "execution_count": 14,
      "metadata": {
        "colab": {
          "base_uri": "https://localhost:8080/",
          "height": 732
        },
        "id": "wQySN1q93FUQ",
        "outputId": "30485238-5eb6-4caf-fb96-79ba1c42674f"
      },
      "outputs": [
        {
          "output_type": "stream",
          "name": "stdout",
          "text": [
            "Results from GCN model with GCNConv Layers\n",
            "===========================================\n",
            "Epoch: 001, Train Acc: 0.5002, Test Acc: 0.5006\n",
            "Epoch: 010, Train Acc: 0.8736, Test Acc: 0.8788\n",
            "Epoch: 020, Train Acc: 0.8728, Test Acc: 0.8806\n",
            "Epoch: 030, Train Acc: 0.8781, Test Acc: 0.8862\n",
            "Epoch: 040, Train Acc: 0.8878, Test Acc: 0.8919\n",
            "Epoch: 050, Train Acc: 0.8770, Test Acc: 0.8800\n",
            "Epoch: 060, Train Acc: 0.8791, Test Acc: 0.8869\n",
            "Epoch: 070, Train Acc: 0.8778, Test Acc: 0.8775\n",
            "Epoch: 080, Train Acc: 0.8942, Test Acc: 0.9012\n",
            "Epoch: 090, Train Acc: 0.8755, Test Acc: 0.8781\n",
            "Epoch: 100, Train Acc: 0.8834, Test Acc: 0.8906\n",
            "===========================================\n",
            "Train Accuracy:\n",
            "    Minimum  0.4998 \n",
            "    Maximum  0.8950 \n",
            "Test Accuracy:\n",
            "    Minimum  0.4994 \n",
            "    Maximum  0.9019 \n"
          ]
        },
        {
          "output_type": "display_data",
          "data": {
            "text/plain": [
              "<Figure size 720x360 with 2 Axes>"
            ],
            "image/png": "[encoded data removed]"
          },
          "metadata": {
            "needs_background": "light"
          }
        }
      ],
      "source": [
        "#@title Test Model-2 { form-width: \"320px\" }\n",
        "model = model_2\n",
        "optimizer = torch.optim.Adam(model.parameters(), lr=0.01)\n",
        "criterion = torch.nn.CrossEntropyLoss()\n",
        "train_acc = []\n",
        "test_acc = []\n",
        "print('Results from GCN model with GCNConv Layers')\n",
        "print('===========================================')\n",
        "for epoch in range(1, 101):\n",
        "    train()\n",
        "    trainx = test(train_loader)\n",
        "    testx = test(test_loader)\n",
        "    train_acc.append(trainx)\n",
        "    test_acc.append(testx)\n",
        "    if epoch == 1 or epoch % 10 == 0:\n",
        "        print(f'Epoch: {epoch:03d}, Train Acc: {trainx:.4f}, Test Acc: {testx:.4f}')\n",
        "print('===========================================')\n",
        "print('Train Accuracy:')\n",
        "print(f'    Minimum {np.min(train_acc) : .4f} \\n    Maximum {np.max(train_acc) : .4f} ')\n",
        "print('Test Accuracy:')\n",
        "print(f'    Minimum {np.min(test_acc) : .4f} \\n    Maximum {np.max(test_acc) : .4f} ')\n",
        "\n",
        "fig, (ax1, ax2) = plt.subplots(1, 2, figsize = (10, 5))\n",
        "fig.suptitle('Accuracy vs Epochs')\n",
        "\n",
        "epoch = range(1, 101)\n",
        "ax1.plot(epoch, train_acc)\n",
        "ax1.set_xlabel('Epochs')  # Add an x-label to the axes.\n",
        "ax1.set_ylabel('Accuracy')  # Add a y-label to the axes.\n",
        "ax1.set_title(\"Train Accuracy Curve\")  # Add a title to the axes.\n",
        "\n",
        "ax2.plot(epoch, test_acc)\n",
        "ax2.set_xlabel('Epochs')  # Add an x-label to the axes.\n",
        "ax2.set_ylabel('Accuracy')  # Add a y-label to the axes.\n",
        "ax2.set_title(\"Test Accuracy Curve\")  # Add a title to the axes.\n",
        "plt.show()"
      ]
    },
    {
      "cell_type": "code",
      "source": [
        "final_test_dataset = generate_dataset(n_pairs = 1000, n_moves = 5)\n",
        "final_test_loader = DataLoader(final_test_dataset, batch_size=32, shuffle=True, follow_batch=['x_s', 'x_t'])"
      ],
      "metadata": {
        "id": "QdoE_RLgycf5"
      },
      "execution_count": 17,
      "outputs": []
    },
    {
      "cell_type": "code",
      "source": [
        "test(final_test_loader)"
      ],
      "metadata": {
        "colab": {
          "base_uri": "https://localhost:8080/"
        },
        "id": "f4iSfwUoyv2x",
        "outputId": "0f2ad483-f84e-4b38-b439-5c4635cb6252"
      },
      "execution_count": 18,
      "outputs": [
        {
          "output_type": "execute_result",
          "data": {
            "text/plain": [
              "0.742"
            ]
          },
          "metadata": {},
          "execution_count": 18
        }
      ]
    }
  ],
  "metadata": {
    "colab": {
      "collapsed_sections": [],
      "name": "pytorch_version.ipynb",
      "provenance": []
    },
    "gpuClass": "standard",
    "kernelspec": {
      "display_name": "Python 3 (ipykernel)",
      "language": "python",
      "name": "python3"
    },
    "language_info": {
      "codemirror_mode": {
        "name": "ipython",
        "version": 3
      },
      "file_extension": ".py",
      "mimetype": "text/x-python",
      "name": "python",
      "nbconvert_exporter": "python",
      "pygments_lexer": "ipython3",
      "version": "3.10.4"
    }
  },
  "nbformat": 4,
  "nbformat_minor": 0
}