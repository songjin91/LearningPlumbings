{
  "cells": [
    {
      "cell_type": "markdown",
      "metadata": {
        "id": "xsPmOVzvNi_v"
      },
      "source": [
        "# 1. Setup"
      ]
    },
    {
      "cell_type": "code",
      "execution_count": 1,
      "metadata": {
        "colab": {
          "base_uri": "https://localhost:8080/"
        },
        "id": "DU8f0R92uq1w",
        "outputId": "2f3011b8-8915-41f9-e6f2-898d75672ca9"
      },
      "outputs": [
        {
          "data": {
            "text/plain": [
              "\"\\n%pip install torch\\n\\nimport os\\nimport torch\\nos.environ['TORCH'] = torch.__version__\\nprint(torch.__version__)\\n\\n%pip install -q torch-scatter -f https://data.pyg.org/whl/torch-${TORCH}.html\\n%pip install -q torch-sparse -f https://data.pyg.org/whl/torch-${TORCH}.html\\n%pip install -q git+https://github.com/pyg-team/pytorch_geometric.git\\n\\n#!pip install tensorboar\\n\""
            ]
          },
          "execution_count": 1,
          "metadata": {},
          "output_type": "execute_result"
        }
      ],
      "source": [
        "#@title Install required packages. { form-width: \"320px\" }\n",
        "\"\"\"\n",
        "%pip install torch\n",
        "\n",
        "import os\n",
        "import torch\n",
        "os.environ['TORCH'] = torch.__version__\n",
        "print(torch.__version__)\n",
        "\n",
        "%pip install -q torch-scatter -f https://data.pyg.org/whl/torch-${TORCH}.html\n",
        "%pip install -q torch-sparse -f https://data.pyg.org/whl/torch-${TORCH}.html\n",
        "%pip install -q git+https://github.com/pyg-team/pytorch_geometric.git\n",
        "\n",
        "#!pip install tensorboar\n",
        "\"\"\""
      ]
    },
    {
      "cell_type": "code",
      "execution_count": 2,
      "metadata": {
        "id": "7emak32btY-b"
      },
      "outputs": [],
      "source": [
        "#@title Import dependencies { form-width: \"320px\" }\n",
        "import torch\n",
        "import numpy as np\n",
        "import networkx as nx\n",
        "import matplotlib.pyplot as plt\n",
        "#import torch_geometric\n",
        "from torch_geometric.utils.convert import from_networkx, to_networkx\n",
        "from torch_geometric.utils import to_dense_adj\n",
        "from torch_geometric.data import Data\n",
        "from torch_geometric.loader import DataLoader\n",
        "\n",
        "import torch.nn as nn\n",
        "import torch.nn.functional as F"
      ]
    },
    {
      "cell_type": "markdown",
      "metadata": {
        "id": "pCqO7jKaOvqg"
      },
      "source": [
        "# 2. Handling Plumbing Graphs\n",
        "Let us define some functions to deal with plumbing graphs."
      ]
    },
    {
      "cell_type": "code",
      "execution_count": 3,
      "metadata": {
        "id": "of9ljOaTtUd1"
      },
      "outputs": [],
      "source": [
        "#@title A Function to create a graph from numpy dense arrays { form-width: \"320px\" }\n",
        "def create_graph(x, a, y = None):\n",
        "    # Create a graph as a `Data` object implemented in PyG (Pytorch Geometric) from node features `x` and\n",
        "    # adjacency matrix `a`.\n",
        "    # `x` and `a` are supposed to be dense numpy arrays.\n",
        "    pyg_graph = Data()\n",
        "    nx_graph = nx.from_numpy_matrix(a) # create a 'networkx' graph from a dense adjacency matrix 'a'\n",
        "    pyg_graph = from_networkx(nx_graph) # convert a networkx graph into a pyg graph \n",
        "    pyg_graph.weight = None\n",
        "    pyg_graph.x = torch.tensor(x.reshape(-1, 1), dtype = torch.float32) # feeding node features\n",
        "    #pyg_graph.y = y # feeding labels\n",
        "    return pyg_graph"
      ]
    },
    {
      "cell_type": "code",
      "execution_count": 4,
      "metadata": {
        "id": "noB2xby-r4uQ"
      },
      "outputs": [],
      "source": [
        "#@title A Fuction for Neumann moves { form-width: \"320px\" }\n",
        "def neumann_move(g_graph, neuman_move_type = np.random.randint(1,4)):\n",
        "    # This function returns a graph obtained by applying a Neumann move to the input graph `g_graph`.\n",
        "    # `g_graph` is an instance of `Data` object.\n",
        "    # `neuman_move_type` denotes the type of Neumann move to be applied. Its values are integers from 1 to 3.\n",
        "    # The default value of `neuman_move_type` is a random integer from 1 to 3.\n",
        "\n",
        "    # Step 1: Get node features and adjacency matrix as numpy dense arrays.\n",
        "    node_label = g_graph.x.numpy()\n",
        "    node_label = node_label.flatten()\n",
        "    #graph_y = g_graph.y\n",
        "    n = len(node_label)\n",
        "    if n == 1:\n",
        "        adjacency = np.zeros((1,1))\n",
        "    else:\n",
        "        adjacency = to_dense_adj(g_graph.edge_index)\n",
        "        adjacency = adjacency.numpy()[0, :, :]\n",
        "\n",
        "    # Step 2: Randomly choose a vertex to which a Neumann move will be applied, and find vertices directly connected to\n",
        "    #         the chosen vertex\n",
        "    chosen_vertex = np.random.randint(0, n)\n",
        "    linked_vs=[]\n",
        "    for j in range(n):\n",
        "        if adjacency[chosen_vertex, j] == 1:\n",
        "            linked_vs = np.append(linked_vs, j)\n",
        "    linked_vs = np.array(linked_vs, dtype=int)\n",
        "\n",
        "    sign = 1 if np.random.random() < 0.5 else -1 # Sign for Neumann moves of types 1 and 2\n",
        "\n",
        "    # If a graph consists of single vertex, then the available types of Neumann moves are 2 and 3.\n",
        "    if len(linked_vs) == 0:\n",
        "        neuman_move_type = 2 if np.random.random() < 0.5 else 3\n",
        "    \n",
        "    # Step 3: Apply Neumann moves to the chosen vertex\n",
        "    if neuman_move_type == 1:\n",
        "        chosen_linked_vertex = linked_vs[np.random.randint(0, len(linked_vs))]\n",
        "        node_label = np.append(node_label, sign)\n",
        "        node_label[chosen_vertex] = node_label[chosen_vertex] + sign\n",
        "        node_label[chosen_linked_vertex] = node_label[chosen_linked_vertex] + sign\n",
        "        adjacency = np.append(adjacency, np.zeros((n, 1)), axis = 1)\n",
        "        adjacency[chosen_vertex, n] = adjacency[chosen_linked_vertex, n ] = 1\n",
        "        adjacency = np.append(adjacency, np.zeros((1, n + 1)), axis = 0)\n",
        "        adjacency[n, chosen_vertex] = adjacency[n, chosen_linked_vertex] = 1\n",
        "        adjacency[chosen_vertex, chosen_linked_vertex] = adjacency[chosen_linked_vertex, chosen_vertex] = 0\n",
        "    elif neuman_move_type == 2:\n",
        "        node_label = np.append(node_label, sign)\n",
        "        node_label[chosen_vertex] = node_label[chosen_vertex] + sign\n",
        "        adjacency = np.append(adjacency, np.zeros((n, 1)), axis = 1)\n",
        "        adjacency[chosen_vertex, n] = 1\n",
        "        adjacency = np.append(adjacency, np.zeros((1, n + 1)), axis = 0)\n",
        "        adjacency[n, chosen_vertex] = 1        \n",
        "    elif neuman_move_type == 3:\n",
        "        node_label = np.append(node_label, 0)\n",
        "        node_diff = np.random.randint(-20, 20)\n",
        "        node_label = np.append(node_label, node_diff)\n",
        "        node_label[chosen_vertex] = node_label[chosen_vertex] - node_diff\n",
        "        adjacency = np.append(adjacency, np.zeros((n, 1)), axis = 1)\n",
        "        adjacency = np.append(adjacency, np.zeros((1, n + 1)), axis = 0)\n",
        "        adjacency = np.append(adjacency, np.zeros((n + 1, 1)), axis = 1)\n",
        "        adjacency = np.append(adjacency, np.zeros((1, n + 2)), axis = 0)\n",
        "        adjacency[chosen_vertex, n] = adjacency[n, chosen_vertex] = 1\n",
        "        adjacency[n, n + 1] = adjacency[n + 1, n] = 1\n",
        "        if len(linked_vs) > 0:\n",
        "            np.random.shuffle(linked_vs)\n",
        "            n_split = np.random.randint(0, len(linked_vs))\n",
        "            if n_split != 0 or n_split != len(linked_vs)-1:\n",
        "                linked_chosen_2 = linked_vs[n_split:]\n",
        "                for i in linked_chosen_2:\n",
        "                    adjacency[chosen_vertex, i] = adjacency[i, chosen_vertex] = 0\n",
        "                    adjacency[n + 1, i] = adjacency[i, n + 1] = 1\n",
        "    # Output\n",
        "    node_label = node_label.reshape(-1, 1)\n",
        "    return create_graph(node_label, adjacency)"
      ]
    },
    {
      "cell_type": "code",
      "execution_count": 5,
      "metadata": {
        "id": "JudECDAdM3R_"
      },
      "outputs": [],
      "source": [
        "#@title A Function to Plot a Graph { form-width: \"320px\" }\n",
        "def plot_graph(pyg_graph):\n",
        "    # First convert a PyG graph to a `networkx` graph, then plot the graph by using `nx.draw` function.\n",
        "    # Config \n",
        "    plt.figure(figsize=(7,7))\n",
        "    plt.xticks([])\n",
        "    plt.yticks([])\n",
        "\n",
        "    g = to_networkx(pyg_graph, to_undirected=True) #convert to networkx graph\n",
        "\n",
        "    labeldict = {} # node labels in the plot\n",
        "    for i in range(pyg_graph.num_nodes):\n",
        "        labeldict[i]=pyg_graph.x[i].item()\n",
        "    # Plot\n",
        "    pos_nodes = nx.kamada_kawai_layout(g)\n",
        "    pos_attrs = {}\n",
        "    for node, coords in pos_nodes.items():\n",
        "        pos_attrs[node] = (coords[0], coords[1] + 0.08)\n",
        "    nx.draw(g, pos_nodes, node_color='black', node_size=30)\n",
        "    nx.draw_networkx_labels(g, pos_attrs, labels=labeldict)\n",
        "    plt.show()"
      ]
    },
    {
      "cell_type": "code",
      "execution_count": 6,
      "metadata": {
        "id": "_Ms1KG9YNfue"
      },
      "outputs": [],
      "source": [
        "#@title Creating a random Graph { form-width: \"320px\" }\n",
        "def random_graph():\n",
        "    # Returns a random graph (plumbing TREE) as an instance of `Data` object of PyG.\n",
        "    # `n` : number of nodes, a random integer from 1 to 14\n",
        "    # `x` : node features, an numpy array of random integers from -10 to 9\n",
        "    # `a` : adjacency matrix\n",
        "    n = np.random.randint(1, 15)\n",
        "    x = np.random.randint(-10, 10, size = n)\n",
        "    a=np.zeros((n, n))\n",
        "    for i in range(1,n):\n",
        "        j=np.random.randint(i)\n",
        "        a[i,j]=a[j,i]=1\n",
        "    return create_graph(x, a)"
      ]
    },
    {
      "cell_type": "markdown",
      "metadata": {
        "id": "Txf-OI2eawIY"
      },
      "source": [
        "As an example, we are trying to create a random graph by using `random_graph()` function and plot it by the function named `plot_graph()`."
      ]
    },
    {
      "cell_type": "code",
      "execution_count": 7,
      "metadata": {
        "colab": {
          "base_uri": "https://localhost:8080/",
          "height": 823
        },
        "id": "rii780xfOU8A",
        "outputId": "1a36c3e2-7f0a-4e3f-ee58-672dcf0b9410"
      },
      "outputs": [
        {
          "data": {
            "image/png": "[encoded data removed]",
            "text/plain": [
              "<Figure size 504x504 with 1 Axes>"
            ]
          },
          "metadata": {},
          "output_type": "display_data"
        },
        {
          "name": "stdout",
          "output_type": "stream",
          "text": [
            "\n",
            "Type of Node Features:            torch.Size([13, 1])\n",
            "Number of nodes:                  13\n",
            "Weights of vertices:              [  2.  -9.   9.  -9.   4.  -4.  -9.   1. -10.  -7.   9. -10.   1.]\n",
            "Number of edges:                  12.0\n",
            "\n"
          ]
        },
        {
          "data": {
            "image/png": "[encoded data removed]",
            "text/plain": [
              "<Figure size 504x504 with 1 Axes>"
            ]
          },
          "metadata": {},
          "output_type": "display_data"
        },
        {
          "name": "stdout",
          "output_type": "stream",
          "text": [
            "\n",
            "Number of nodes:                  14\n",
            "Weights of vertices:              [  2.  -9.   9.  -9.   4.  -4.  -9.   1. -10.  -7.  10.  -9.   1.   1.]\n",
            "Number of edges:                  13.0\n",
            "\n"
          ]
        }
      ],
      "source": [
        "#@title An Example { form-width: \"320px\" }\n",
        "g_graph = random_graph()\n",
        "plot_graph(g_graph)\n",
        "print()\n",
        "print(f'Type of Node Features:            {g_graph.x.size()}')\n",
        "print(f'Number of nodes:                  {g_graph.num_nodes}')\n",
        "print(f'Weights of vertices:              {g_graph.x[:, 0].numpy()}')\n",
        "print(f'Number of edges:                  {g_graph.num_edges/2}')\n",
        "print()\n",
        "g1_graph = neumann_move(g_graph)\n",
        "plot_graph(g1_graph)\n",
        "print()\n",
        "print(f'Number of nodes:                  {g1_graph.num_nodes}')\n",
        "print(f'Weights of vertices:              {g1_graph.x[:, 0].numpy()}')\n",
        "print(f'Number of edges:                  {g1_graph.num_edges/2}')\n",
        "print()"
      ]
    },
    {
      "cell_type": "markdown",
      "metadata": {
        "id": "9yW469JjTr_G"
      },
      "source": [
        "# 3. Preparing Datasets"
      ]
    },
    {
      "cell_type": "code",
      "execution_count": 8,
      "metadata": {
        "id": "zKOrTLX5SuJY"
      },
      "outputs": [],
      "source": [
        "#@title Defining PairData as a subclass of Data for storing two graphs { form-width: \"320px\" }\n",
        "class PairData(Data):\n",
        "    def __init__(self, edge_index_s=None, x_s=None, edge_index_t=None, x_t=None, y = None):\n",
        "        super().__init__()\n",
        "        self.edge_index_s = edge_index_s\n",
        "        self.x_s = x_s\n",
        "        self.edge_index_t = edge_index_t\n",
        "        self.x_t = x_t\n",
        "        self.y = y\n",
        "        \n",
        "    def __inc__(self, key, value, *args, **kwargs):\n",
        "        if key == 'edge_index_s':\n",
        "            return self.x_s.size(0)\n",
        "        if key == 'edge_index_t':\n",
        "            return self.x_t.size(0)\n",
        "        else:\n",
        "            return super().__inc__(key, value, *args, **kwargs)"
      ]
    },
    {
      "cell_type": "code",
      "execution_count": 9,
      "metadata": {
        "id": "x1DyKTgdVSzz"
      },
      "outputs": [],
      "source": [
        "#@title Generate a random dataset { form-width: \"320px\" }\n",
        "def generate_dataset(n_pairs = 50, n_moves = 11, status = 'random'):\n",
        "    data_list = []\n",
        "    for j in range(0, n_pairs):\n",
        "      if status == 'same':\n",
        "            pos = 1\n",
        "      elif status =='diff':\n",
        "            pos = -1\n",
        "      else:\n",
        "            pos = 1 if np.random.random() < 0.5 else -1\n",
        "      g1 = random_graph()\n",
        "      #for i in range(np.random.randint(1,n_moves)):\n",
        "      #  g1 = neumann_move(g1)\n",
        "      if pos == 1:\n",
        "        g2 = g1\n",
        "        for i in range(np.random.randint(1, n_moves)):\n",
        "          g2 = neumann_move(g2)\n",
        "      else:\n",
        "        g2 = random_graph()\n",
        "        for i in range(np.random.randint(1, n_moves)):\n",
        "          g1 = neumann_move(g1)\n",
        "        for i in range(np.random.randint(1, n_moves)):\n",
        "          g2 = neumann_move(g2)\n",
        "      #y = torch.tensor([pos]).unsqueeze(1)\n",
        "      if pos == 1:\n",
        "        y = torch.tensor([pos])\n",
        "      else:\n",
        "        y = torch.tensor([0])\n",
        "      \n",
        "      # Normalize\n",
        "      #g1.x = F.normalize(g1.x, p = 2, dim = 0)\n",
        "      #lg2.x = F.normalize(g2.x, p = 2, dim = 0)\n",
        "\n",
        "      # Save\n",
        "      data_list.append(PairData(edge_index_s = g1.edge_index, x_s = g1.x, \n",
        "                                edge_index_t = g2.edge_index, x_t = g2.x, y = y))\n",
        "    return data_list"
      ]
    },
    {
      "cell_type": "code",
      "execution_count": 10,
      "metadata": {
        "id": "EIlzvEqj4mrt"
      },
      "outputs": [],
      "source": [
        "#@title Create Sets for training and testing { form-width: \"320px\" }\n",
        "dataset = generate_dataset(n_pairs = 8000, n_moves = 6, status = 'random')\n",
        "data_size = len(dataset)\n",
        "train_loader = DataLoader(dataset[:int(data_size * 0.8)], batch_size=32, shuffle=False, follow_batch=['x_s', 'x_t'])\n",
        "test_loader = DataLoader(dataset[int(data_size * 0.8):], batch_size=32, shuffle=False, follow_batch=['x_s', 'x_t'])"
      ]
    },
    {
      "cell_type": "markdown",
      "metadata": {
        "id": "bDdNI1qsnPpo"
      },
      "source": [
        "# 4. Build a Model and Test"
      ]
    },
    {
      "cell_type": "code",
      "execution_count": 11,
      "metadata": {},
      "outputs": [],
      "source": [
        "from torch_geometric.nn import MessagePassing, MLP, BatchNorm\n",
        "class GEmbedLayer(MessagePassing):\n",
        "    def __init__(self, in_chs, hid_chs, out_chs):\n",
        "        super().__init__(aggr='add')  # \"Add\" aggregation.\n",
        "        self.in_chs = in_chs\n",
        "        self.hid_chs = hid_chs\n",
        "        self.out_chs = out_chs\n",
        "        self._build_model()\n",
        "        self.batch_norm = BatchNorm(self.out_chs)\n",
        "        \n",
        "    def _build_model(self):\n",
        "        layer = []\n",
        "        layer.append(nn.Linear(self.in_chs, self.hid_chs))\n",
        "        layer.append(nn.ReLU())\n",
        "        layer.append(nn.Linear(self.hid_chs, self.out_chs))\n",
        "        self.mlp_node = nn.Sequential(*layer)\n",
        "        \n",
        "        layer = []\n",
        "        layer.append(nn.Linear(2 * self.out_chs, self.hid_chs))\n",
        "        layer.append(nn.ReLU())\n",
        "        layer.append(nn.Linear(self.hid_chs, self.out_chs))\n",
        "        self.mlp_msg = nn.Sequential(*layer)\n",
        "        \n",
        "        layer = []\n",
        "        layer.append(nn.Linear(self.in_chs + self.out_chs, self.hid_chs))\n",
        "        layer.append(nn.ReLU())\n",
        "        layer.append(nn.Linear(self.hid_chs, self.out_chs))\n",
        "        self.mlp_upd = nn.Sequential(*layer)\n",
        "       \n",
        "    def forward(self, x, edge_index):\n",
        "        x_encoded = self.mlp_node(x)\n",
        "        return self.propagate(edge_index, x = x_encoded, x_original = x)\n",
        "\n",
        "    def message(self, x_i, x_j):\n",
        "        tmp = torch.cat([x_i, x_j], dim = 1)\n",
        "        \n",
        "        return self.mlp_msg(tmp)\n",
        "    \n",
        "    def update(self, aggr_out, x, x_original):\n",
        "        #print(aggr_out.shape)\n",
        "        temp = torch.cat((x_original, aggr_out), dim = 1)\n",
        "        #print(temp.shape)\n",
        "        aggr_out = self.mlp_upd(temp)\n",
        "        aggr_out = self.batch_norm(aggr_out)\n",
        "        return aggr_out"
      ]
    },
    {
      "cell_type": "code",
      "execution_count": 12,
      "metadata": {},
      "outputs": [],
      "source": [
        "from torch_scatter import scatter_mean\n",
        "\n",
        "class GraphAggregator(torch.nn.Module):\n",
        "    def __init__(self, in_channels, hidden_channels, out_channels):\n",
        "        super(GraphAggregator, self).__init__()\n",
        "        self.in_channels = in_channels\n",
        "        self.hidden_channels = hidden_channels\n",
        "        self.out_channels = out_channels\n",
        "        self._build_model()\n",
        "        \n",
        "            \n",
        "    def _build_model(self):\n",
        "        layer = []\n",
        "        layer.append(nn.Linear(self.in_channels, self.hidden_channels))\n",
        "        layer.append(nn.ReLU())\n",
        "        layer.append(nn.Linear(self.hidden_channels, self.out_channels))\n",
        "        self.mlp = nn.Sequential(*layer)\n",
        "        \n",
        "        layer = []\n",
        "        layer.append(nn.Linear(self.in_channels, self.hidden_channels))\n",
        "        layer.append(nn.ReLU())\n",
        "        layer.append(nn.Linear(self.hidden_channels, self.out_channels))\n",
        "        self.mlp_gate = nn.Sequential(*layer)\n",
        "        \n",
        "        layer = []\n",
        "        layer.append(nn.Linear(self.out_channels, self.hidden_channels))\n",
        "        layer.append(nn.ReLU())\n",
        "        layer.append(nn.Linear(self.hidden_channels, self.out_channels))\n",
        "        self.mlp_final = nn.Sequential(*layer)\n",
        "        \n",
        "            \n",
        "    def forward(self, x):\n",
        "        # print(\"x:\", x.shape)\n",
        "        x_states = self.mlp(x)\n",
        "        x_gates = F.softmax(self.mlp_gate(x), dim = 1)\n",
        "        x_states = x_states * x_gates\n",
        "        \n",
        "        # print(\"x_states:\", x_states.shape)\n",
        "        # print(\"batch:\", batch.shape)\n",
        "        #x_states = scatter_mean(x_states, x_batch, dim = 0)\n",
        "        x_states = self.mlp_final(x_states)\n",
        "        return x_states"
      ]
    },
    {
      "cell_type": "code",
      "execution_count": 13,
      "metadata": {},
      "outputs": [
        {
          "name": "stdout",
          "output_type": "stream",
          "text": [
            "GraphEmbedNet(\n",
            "  (layers): ModuleList(\n",
            "    (0): GEmbedLayer()\n",
            "    (1): GEmbedLayer()\n",
            "    (2): GEmbedLayer()\n",
            "    (3): GEmbedLayer()\n",
            "    (4): GEmbedLayer()\n",
            "  )\n",
            "  (aggregator): GraphAggregator(\n",
            "    (mlp): Sequential(\n",
            "      (0): Linear(in_features=16, out_features=32, bias=True)\n",
            "      (1): ReLU()\n",
            "      (2): Linear(in_features=32, out_features=16, bias=True)\n",
            "    )\n",
            "    (mlp_gate): Sequential(\n",
            "      (0): Linear(in_features=16, out_features=32, bias=True)\n",
            "      (1): ReLU()\n",
            "      (2): Linear(in_features=32, out_features=16, bias=True)\n",
            "    )\n",
            "    (mlp_final): Sequential(\n",
            "      (0): Linear(in_features=16, out_features=32, bias=True)\n",
            "      (1): ReLU()\n",
            "      (2): Linear(in_features=32, out_features=16, bias=True)\n",
            "    )\n",
            "  )\n",
            "  (classification): MLP(32, 32, 32, 2)\n",
            ")\n"
          ]
        }
      ],
      "source": [
        "class GraphEmbedNet(torch.nn.Module):\n",
        "\tdef __init__(self, num_msgpss = 5):\n",
        "\t\tsuper(GraphEmbedNet, self).__init__()\n",
        "\t\tself.num_msgpss = num_msgpss\n",
        "\t\tself.layers = torch.nn.ModuleList()\n",
        "\t\tself.layers.append(GEmbedLayer(in_chs = 1, hid_chs = 32, out_chs = 16))\n",
        "\t\tfor _ in range(self.num_msgpss - 1):\n",
        "\t\t\tself.layers.append(GEmbedLayer(in_chs = 16, hid_chs = 32, out_chs = 16))\n",
        "\t\tself.aggregator = GraphAggregator(in_channels = 16, hidden_channels = 32, out_channels= 16)\n",
        "\t\tself.classification = MLP(in_channels = 32, hidden_channels = 32, out_channels = 2, num_layers = 3)\n",
        "\n",
        "\t\n",
        "\tdef compute_embedding(self, x, edge_index, x_batch):\n",
        "\t\tfor i in range(self.num_msgpss):\n",
        "\t\t\tx = self.layers[i](x, edge_index)\n",
        "\t\tx = self.aggregator(x)\n",
        "\t\tx = scatter_mean(x, x_batch, dim = 0)\n",
        "\t\treturn x\n",
        "\n",
        "\tdef forward(self, data):\n",
        "\t\tx_s, x_t = data.x_s, data.x_t\n",
        "\t\tedge_index_s, edge_index_t = data.edge_index_s, data.edge_index_t\n",
        "\t\tx_s_batch, x_t_batch = data.x_s_batch, data.x_t_batch\n",
        "\t\tembed_s = self.compute_embedding(x_s, edge_index_s, x_s_batch)\n",
        "\t\tembed_t = self.compute_embedding(x_t, edge_index_t, x_t_batch)\n",
        "\t\tout = torch.cat((embed_s, embed_t), 1)\n",
        "\t\tout = out.reshape(out.size(0), -1)\n",
        "\t\tout = self.classification(out)\n",
        "\t\treturn out\n",
        "model = GraphEmbedNet()\n",
        "print(model)"
      ]
    },
    {
      "cell_type": "code",
      "execution_count": 14,
      "metadata": {
        "id": "WDreK1OddbQX"
      },
      "outputs": [],
      "source": [
        "#@title Train and Test Functions { form-width: \"320px\" }\n",
        "def train():\n",
        "    model.train()\n",
        "    \n",
        "    for data in train_loader:  # Iterate in batches over the training dataset.\n",
        "         optimizer.zero_grad()\n",
        "         x= model(data)  # Perform a single forward pass.\n",
        "         loss = criterion(x, data.y)  # Compute the loss.\n",
        "         \n",
        "         loss.backward()  # Derive gradients.\n",
        "         optimizer.step()  # Update parameters based on gradients.\n",
        "         #optimizer.zero_grad()  # Clear gradients.\n",
        "\n",
        "def test(loader):\n",
        "  model.eval()\n",
        "  correct = 0\n",
        "  #loss = 0\n",
        "  for data in loader:  # Iterate in batches over the training/test dataset.\n",
        "      out = model(data)  \n",
        "      pred = out.argmax(dim=1)  # Use the class with highest probability.\n",
        "      correct += int((pred == data.y).sum())  # Check against ground-truth labels.\n",
        "  return correct / len(loader.dataset)  # Derive ratio of correct predictions."
      ]
    },
    {
      "cell_type": "code",
      "execution_count": 15,
      "metadata": {
        "colab": {
          "base_uri": "https://localhost:8080/",
          "height": 732
        },
        "id": "wQySN1q93FUQ",
        "outputId": "30485238-5eb6-4caf-fb96-79ba1c42674f"
      },
      "outputs": [
        {
          "name": "stdout",
          "output_type": "stream",
          "text": [
            "Results by Graph Embedding Network\n",
            "===========================================\n",
            "Epoch: 001, Train Acc: 0.8119, Test Acc: 0.8119\n",
            "Epoch: 005, Train Acc: 0.9425, Test Acc: 0.9444\n",
            "Epoch: 010, Train Acc: 0.9461, Test Acc: 0.9431\n",
            "Epoch: 015, Train Acc: 0.9452, Test Acc: 0.9319\n",
            "Epoch: 020, Train Acc: 0.9655, Test Acc: 0.9631\n",
            "Epoch: 025, Train Acc: 0.9634, Test Acc: 0.9556\n",
            "Epoch: 030, Train Acc: 0.9578, Test Acc: 0.9525\n",
            "Epoch: 035, Train Acc: 0.9544, Test Acc: 0.9481\n",
            "Epoch: 040, Train Acc: 0.9703, Test Acc: 0.9631\n",
            "Epoch: 045, Train Acc: 0.9608, Test Acc: 0.9519\n",
            "Epoch: 050, Train Acc: 0.9578, Test Acc: 0.9444\n",
            "Epoch: 055, Train Acc: 0.9547, Test Acc: 0.9494\n",
            "Epoch: 060, Train Acc: 0.9666, Test Acc: 0.9537\n",
            "Epoch: 065, Train Acc: 0.9591, Test Acc: 0.9494\n",
            "Epoch: 070, Train Acc: 0.9650, Test Acc: 0.9537\n",
            "Epoch: 075, Train Acc: 0.9244, Test Acc: 0.9256\n",
            "Epoch: 080, Train Acc: 0.9511, Test Acc: 0.9394\n",
            "Epoch: 085, Train Acc: 0.9364, Test Acc: 0.9263\n",
            "Epoch: 090, Train Acc: 0.6966, Test Acc: 0.6963\n",
            "Epoch: 095, Train Acc: 0.9544, Test Acc: 0.9444\n",
            "Epoch: 100, Train Acc: 0.9492, Test Acc: 0.9375\n",
            "===========================================\n",
            "Train Accuracy:\n",
            "    Minimum  0.5827 \n",
            "    Maximum  0.9708 \n",
            "Test Accuracy:\n",
            "    Minimum  0.5856 \n",
            "    Maximum  0.9631 \n"
          ]
        },
        {
          "data": {
            "image/png": "[encoded data removed]",
            "text/plain": [
              "<Figure size 720x360 with 2 Axes>"
            ]
          },
          "metadata": {
            "needs_background": "light"
          },
          "output_type": "display_data"
        }
      ],
      "source": [
        "#@title Test Model-2 { form-width: \"320px\" }\n",
        "optimizer = torch.optim.Adam(model.parameters(), lr=0.01)\n",
        "criterion = torch.nn.CrossEntropyLoss()\n",
        "train_acc = []\n",
        "test_acc = []\n",
        "print('Results by Graph Embedding Network')\n",
        "print('===========================================')\n",
        "for epoch in range(1, 101):\n",
        "    train()\n",
        "    trainx = test(train_loader)\n",
        "    testx = test(test_loader)\n",
        "    train_acc.append(trainx)\n",
        "    test_acc.append(testx)\n",
        "    if epoch == 1 or epoch % 5 == 0:\n",
        "        print(f'Epoch: {epoch:03d}, Train Acc: {trainx:.4f}, Test Acc: {testx:.4f}')\n",
        "print('===========================================')\n",
        "print('Train Accuracy:')\n",
        "print(f'    Minimum {np.min(train_acc) : .4f} \\n    Maximum {np.max(train_acc) : .4f} ')\n",
        "print('Test Accuracy:')\n",
        "print(f'    Minimum {np.min(test_acc) : .4f} \\n    Maximum {np.max(test_acc) : .4f} ')\n",
        "\n",
        "fig, (ax1, ax2) = plt.subplots(1, 2, figsize = (10, 5))\n",
        "fig.suptitle('Accuracy vs Epochs')\n",
        "\n",
        "epoch = range(1, 101)\n",
        "ax1.plot(epoch, train_acc)\n",
        "ax1.set_xlabel('Epochs')  # Add an x-label to the axes.\n",
        "ax1.set_ylabel('Accuracy')  # Add a y-label to the axes.\n",
        "ax1.set_title(\"Train Accuracy Curve\")  # Add a title to the axes.\n",
        "\n",
        "ax2.plot(epoch, test_acc)\n",
        "ax2.set_xlabel('Epochs')  # Add an x-label to the axes.\n",
        "ax2.set_ylabel('Accuracy')  # Add a y-label to the axes.\n",
        "ax2.set_title(\"Test Accuracy Curve\")  # Add a title to the axes.\n",
        "plt.show()"
      ]
    },
    {
      "cell_type": "markdown",
      "metadata": {},
      "source": [
        "## Final Test"
      ]
    },
    {
      "cell_type": "code",
      "execution_count": 16,
      "metadata": {
        "id": "QdoE_RLgycf5"
      },
      "outputs": [
        {
          "name": "stdout",
          "output_type": "stream",
          "text": [
            "Accuracy for a test set containing pairs of ONLY EQUIVALENT graphs:\n"
          ]
        },
        {
          "data": {
            "text/plain": [
              "0.892"
            ]
          },
          "execution_count": 16,
          "metadata": {},
          "output_type": "execute_result"
        }
      ],
      "source": [
        "final_test_dataset = generate_dataset(n_pairs = 1000, n_moves = 11, status = 'diff')\n",
        "final_test_loader = DataLoader(final_test_dataset, batch_size=32, shuffle=True, follow_batch=['x_s', 'x_t'])\n",
        "print('Accuracy for a test set containing pairs of ONLY EQUIVALENT graphs:')\n",
        "test(final_test_loader)"
      ]
    },
    {
      "cell_type": "code",
      "execution_count": 17,
      "metadata": {},
      "outputs": [
        {
          "name": "stdout",
          "output_type": "stream",
          "text": [
            "Accuracy for a test set containing pairs of ONLY DIFFERENT graphs:\n"
          ]
        },
        {
          "data": {
            "text/plain": [
              "0.957"
            ]
          },
          "execution_count": 17,
          "metadata": {},
          "output_type": "execute_result"
        }
      ],
      "source": [
        "final_test_dataset = generate_dataset(n_pairs = 1000, n_moves = 11, status = 'same')\n",
        "final_test_loader = DataLoader(final_test_dataset, batch_size=32, shuffle=True, follow_batch=['x_s', 'x_t'])\n",
        "print('Accuracy for a test set containing pairs of ONLY DIFFERENT graphs:')\n",
        "test(final_test_loader)"
      ]
    },
    {
      "cell_type": "code",
      "execution_count": 18,
      "metadata": {
        "colab": {
          "base_uri": "https://localhost:8080/"
        },
        "id": "f4iSfwUoyv2x",
        "outputId": "0f2ad483-f84e-4b38-b439-5c4635cb6252"
      },
      "outputs": [
        {
          "name": "stdout",
          "output_type": "stream",
          "text": [
            "Accuracy for a test set containing pairs of RANDOM graphs:\n"
          ]
        },
        {
          "data": {
            "text/plain": [
              "0.931"
            ]
          },
          "execution_count": 18,
          "metadata": {},
          "output_type": "execute_result"
        }
      ],
      "source": [
        "final_test_dataset = generate_dataset(n_pairs = 1000, n_moves = 11, status = 'random')\n",
        "final_test_loader = DataLoader(final_test_dataset, batch_size=32, shuffle=True, follow_batch=['x_s', 'x_t'])\n",
        "print('Accuracy for a test set containing pairs of RANDOM graphs:')\n",
        "test(final_test_loader)"
      ]
    }
  ],
  "metadata": {
    "colab": {
      "collapsed_sections": [],
      "name": "pytorch_version.ipynb",
      "provenance": []
    },
    "gpuClass": "standard",
    "kernelspec": {
      "display_name": "Python 3.10.4 64-bit",
      "language": "python",
      "name": "python3"
    },
    "language_info": {
      "codemirror_mode": {
        "name": "ipython",
        "version": 3
      },
      "file_extension": ".py",
      "mimetype": "text/x-python",
      "name": "python",
      "nbconvert_exporter": "python",
      "pygments_lexer": "ipython3",
      "version": "3.10.4"
    },
    "vscode": {
      "interpreter": {
        "hash": "369f2c481f4da34e4445cda3fffd2e751bd1c4d706f27375911949ba6bb62e1c"
      }
    }
  },
  "nbformat": 4,
  "nbformat_minor": 0
}
