{
  "nbformat": 4,
  "nbformat_minor": 0,
  "metadata": {
    "colab": {
      "name": "pytorch_version.ipynb",
      "provenance": [],
      "collapsed_sections": []
    },
    "kernelspec": {
      "name": "python3",
      "display_name": "Python 3"
    },
    "language_info": {
      "name": "python"
    },
    "gpuClass": "standard"
  },
  "cells": [
    {
      "cell_type": "markdown",
      "source": [
        "# 1. Setup"
      ],
      "metadata": {
        "id": "xsPmOVzvNi_v"
      }
    },
    {
      "cell_type": "code",
      "source": [
        "#@title Install required packages. { form-width: \"320px\" }\n",
        "import os\n",
        "import torch\n",
        "os.environ['TORCH'] = torch.__version__\n",
        "print(torch.__version__)\n",
        "\n",
        "!pip install -q torch-scatter -f https://data.pyg.org/whl/torch-${TORCH}.html\n",
        "!pip install -q torch-sparse -f https://data.pyg.org/whl/torch-${TORCH}.html\n",
        "!pip install -q git+https://github.com/pyg-team/pytorch_geometric.git\n",
        "\n",
        "#!pip install tensorboardX"
      ],
      "metadata": {
        "colab": {
          "base_uri": "https://localhost:8080/"
        },
        "id": "DU8f0R92uq1w",
        "outputId": "f4baeb61-5267-47e4-f1ba-ddea7dcd4f83",
        "cellView": "form"
      },
      "execution_count": 1,
      "outputs": [
        {
          "output_type": "stream",
          "name": "stdout",
          "text": [
            "1.11.0+cu113\n"
          ]
        }
      ]
    },
    {
      "cell_type": "code",
      "source": [
        "#@title Import dependencies { form-width: \"320px\" }\n",
        "import numpy as np\n",
        "import networkx as nx\n",
        "import matplotlib.pyplot as plt\n",
        "import torch_geometric\n",
        "from torch_geometric.utils.convert import from_networkx, to_networkx\n",
        "from torch_geometric.utils import to_dense_adj\n",
        "from torch_geometric.data import Data\n",
        "from torch_geometric.loader import DataLoader\n",
        "\n",
        "import torch.nn as nn\n",
        "import torch.nn.functional as F\n",
        "\n",
        "import torch_geometric.nn as pyg_nn"
      ],
      "metadata": {
        "id": "7emak32btY-b",
        "cellView": "form"
      },
      "execution_count": 2,
      "outputs": []
    },
    {
      "cell_type": "markdown",
      "source": [
        "# 2. Handling Plumbing Graphs\n",
        "Let us define some functions to deal with plumbing graphs."
      ],
      "metadata": {
        "id": "pCqO7jKaOvqg"
      }
    },
    {
      "cell_type": "code",
      "source": [
        "#@title A Function to create a graph from numpy dense arrays { form-width: \"320px\" }\n",
        "def create_graph(x, a, y = None):\n",
        "  pyg_graph = Data()\n",
        "  nx_graph = nx.from_numpy_matrix(a) # create a 'networkx' graph from a dense adjacency matrix 'a'\n",
        "  pyg_graph = from_networkx(nx_graph) # convert a networkx graph into a pyg graph \n",
        "  pyg_graph.weight = None\n",
        "  pyg_graph.x = torch.tensor(x.reshape(-1, 1), dtype = torch.float32) # feeding node features\n",
        "  #pyg_graph.y = y # feeding labels\n",
        "  return pyg_graph"
      ],
      "metadata": {
        "id": "of9ljOaTtUd1",
        "cellView": "form"
      },
      "execution_count": 3,
      "outputs": []
    },
    {
      "cell_type": "code",
      "source": [
        "#@title A Fuction for Neumann moves { form-width: \"320px\" }\n",
        "def neumann_move(g_graph, neuman_move_type = np.random.randint(1,4)):\n",
        "    node_label = g_graph.x.numpy()\n",
        "    node_label = node_label.flatten()\n",
        "    #graph_y = g_graph.y\n",
        "    n = len(node_label)\n",
        "    if n == 1:\n",
        "        adjacency = np.zeros((1,1))\n",
        "    else:\n",
        "        adjacency = to_dense_adj(g_graph.edge_index)\n",
        "        adjacency = adjacency.numpy()[0, :, :]\n",
        "    chosen_vertex = np.random.randint(0, n)\n",
        "    linked_vs=[]\n",
        "    for j in range(n):\n",
        "        if adjacency[chosen_vertex, j] == 1:\n",
        "            linked_vs = np.append(linked_vs, j)\n",
        "    linked_vs = np.array(linked_vs, dtype=int)\n",
        "    sign = 1 if np.random.random() < 0.5 else -1\n",
        "    if len(linked_vs) == 0:\n",
        "        neuman_move_type = 2 if np.random.random() < 0.5 else 3\n",
        "    if neuman_move_type == 1:\n",
        "        chosen_linked_vertex = linked_vs[np.random.randint(0, len(linked_vs))]\n",
        "        node_label = np.append(node_label, sign)\n",
        "        node_label[chosen_vertex] = node_label[chosen_vertex] + sign\n",
        "        node_label[chosen_linked_vertex] = node_label[chosen_linked_vertex] + sign\n",
        "        adjacency = np.append(adjacency, np.zeros((n, 1)), axis = 1)\n",
        "        adjacency[chosen_vertex, n] = adjacency[chosen_linked_vertex, n ] = 1\n",
        "        adjacency = np.append(adjacency, np.zeros((1, n + 1)), axis = 0)\n",
        "        adjacency[n, chosen_vertex] = adjacency[n, chosen_linked_vertex] = 1\n",
        "        adjacency[chosen_vertex, chosen_linked_vertex] = adjacency[chosen_linked_vertex, chosen_vertex] = 0\n",
        "    elif neuman_move_type == 2:\n",
        "        node_label = np.append(node_label, sign)\n",
        "        node_label[chosen_vertex] = node_label[chosen_vertex] + sign\n",
        "        adjacency = np.append(adjacency, np.zeros((n, 1)), axis = 1)\n",
        "        adjacency[chosen_vertex, n] = 1\n",
        "        adjacency = np.append(adjacency, np.zeros((1, n + 1)), axis = 0)\n",
        "        adjacency[n, chosen_vertex] = 1        \n",
        "    elif neuman_move_type == 3:\n",
        "        node_label = np.append(node_label, 0)\n",
        "        node_diff = np.random.randint(-20, 20)\n",
        "        node_label = np.append(node_label, node_diff)\n",
        "        node_label[chosen_vertex] = node_label[chosen_vertex] - node_diff\n",
        "        adjacency = np.append(adjacency, np.zeros((n, 1)), axis = 1)\n",
        "        adjacency = np.append(adjacency, np.zeros((1, n + 1)), axis = 0)\n",
        "        adjacency = np.append(adjacency, np.zeros((n + 1, 1)), axis = 1)\n",
        "        adjacency = np.append(adjacency, np.zeros((1, n + 2)), axis = 0)\n",
        "        adjacency[chosen_vertex, n] = adjacency[n, chosen_vertex] = 1\n",
        "        adjacency[n, n + 1] = adjacency[n + 1, n] = 1\n",
        "        if len(linked_vs) > 0:\n",
        "            np.random.shuffle(linked_vs)\n",
        "            n_split = np.random.randint(0, len(linked_vs))\n",
        "            if n_split != 0 or n_split != len(linked_vs)-1:\n",
        "                linked_chosen_2 = linked_vs[n_split:]\n",
        "                for i in linked_chosen_2:\n",
        "                    adjacency[chosen_vertex, i] = adjacency[i, chosen_vertex] = 0\n",
        "                    adjacency[n + 1, i] = adjacency[i, n + 1] = 1\n",
        "    node_label = node_label.reshape(-1, 1)\n",
        "    return create_graph(node_label, adjacency)"
      ],
      "metadata": {
        "id": "noB2xby-r4uQ",
        "cellView": "form"
      },
      "execution_count": 4,
      "outputs": []
    },
    {
      "cell_type": "code",
      "source": [
        "#@title A Function to Plot a Graph { form-width: \"320px\" }\n",
        "def plot_graph(pyg_graph):\n",
        "  plt.figure(figsize=(7,7))\n",
        "  plt.xticks([])\n",
        "  plt.yticks([])\n",
        "  g = to_networkx(pyg_graph, to_undirected=True)\n",
        "  labeldict = {}\n",
        "  for i in range(pyg_graph.num_nodes):\n",
        "      labeldict[i]=pyg_graph.x[i].item()\n",
        "\n",
        "  pos_nodes = nx.kamada_kawai_layout(g)\n",
        "  pos_attrs = {}\n",
        "  for node, coords in pos_nodes.items():\n",
        "      pos_attrs[node] = (coords[0], coords[1] + 0.08)\n",
        "  nx.draw(g, pos_nodes, node_color='black', node_size=30)\n",
        "  nx.draw_networkx_labels(g, pos_attrs, labels=labeldict)\n",
        "  plt.show()"
      ],
      "metadata": {
        "id": "JudECDAdM3R_",
        "cellView": "form"
      },
      "execution_count": 5,
      "outputs": []
    },
    {
      "cell_type": "code",
      "source": [
        "#@title Creating a random Graph\n",
        "def random_graph():\n",
        "  n = np.random.randint(1,15)\n",
        "  x = np.random.randint(-10, 10, size = n)\n",
        "  a=np.zeros((n, n))\n",
        "  for i in range(1,n):\n",
        "    j=np.random.randint(i)\n",
        "    a[i,j]=a[j,i]=1\n",
        "  return create_graph(x, a)"
      ],
      "metadata": {
        "id": "_Ms1KG9YNfue",
        "cellView": "form"
      },
      "execution_count": 6,
      "outputs": []
    },
    {
      "cell_type": "markdown",
      "source": [
        "As an example, we are trying to create a random graph by using `random_graph()` function and plot it by the function named `plot_graph()`."
      ],
      "metadata": {
        "id": "Txf-OI2eawIY"
      }
    },
    {
      "cell_type": "code",
      "source": [
        "#@title An Example { form-width: \"320px\" }\n",
        "g_graph = random_graph()\n",
        "plot_graph(g_graph)\n",
        "g1_graph = neumann_move(g_graph)\n",
        "plot_graph(g1_graph)\n",
        "print(g1_graph)"
      ],
      "metadata": {
        "colab": {
          "base_uri": "https://localhost:8080/",
          "height": 822
        },
        "id": "rii780xfOU8A",
        "outputId": "5a583504-9ab6-49c6-d2a5-b2d79e4dd96b",
        "cellView": "form"
      },
      "execution_count": 7,
      "outputs": [
        {
          "output_type": "display_data",
          "data": {
            "text/plain": [
              "<Figure size 504x504 with 1 Axes>"
            ],
            "image/png": "[encoded data removed]"
          },
          "metadata": {}
        },
        {
          "output_type": "display_data",
          "data": {
            "text/plain": [
              "<Figure size 504x504 with 1 Axes>"
            ],
            "image/png": "[encoded data removed]"
          },
          "metadata": {}
        },
        {
          "output_type": "stream",
          "name": "stdout",
          "text": [
            "Data(edge_index=[2, 26], num_nodes=14, x=[14, 1])\n"
          ]
        }
      ]
    },
    {
      "cell_type": "markdown",
      "source": [
        "# 3. Preparing Datasets"
      ],
      "metadata": {
        "id": "9yW469JjTr_G"
      }
    },
    {
      "cell_type": "code",
      "source": [
        "#@title Defining PairData as a subclass of Data for storing two graphs { form-width: \"320px\" }\n",
        "class PairData(Data):\n",
        "  def __init__(self, edge_index_s=None, x_s=None, edge_index_t=None, x_t=None, y = None):\n",
        "    super().__init__()\n",
        "    self.edge_index_s = edge_index_s\n",
        "    self.x_s = x_s\n",
        "    self.edge_index_t = edge_index_t\n",
        "    self.x_t = x_t\n",
        "    self.y = y\n",
        "  def __inc__(self, key, value, *args, **kwargs):\n",
        "    if key == 'edge_index_s':\n",
        "        return self.x_s.size(0)\n",
        "    if key == 'edge_index_t':\n",
        "        return self.x_t.size(0)\n",
        "    else:\n",
        "        return super().__inc__(key, value, *args, **kwargs)"
      ],
      "metadata": {
        "id": "zKOrTLX5SuJY",
        "cellView": "form"
      },
      "execution_count": 8,
      "outputs": []
    },
    {
      "cell_type": "code",
      "source": [
        "#@title Generate a random dataset { form-width: \"320px\" }\n",
        "def generate_dataset(n_pairs = 50):\n",
        "    data_list = []\n",
        "    \n",
        "    for j in range(0, n_pairs):\n",
        "      pos = 1 if np.random.random() < 0.5 else -1\n",
        "      g1 = random_graph()\n",
        "      for i in range(np.random.randint(1,11)):\n",
        "        g1 = neumann_move(g1)\n",
        "      if pos == 1:\n",
        "        g2 = g1\n",
        "        for i in range(np.random.randint(1,11)):\n",
        "          g1 = neumann_move(g1)\n",
        "        for i in range(np.random.randint(1,11)):\n",
        "          g2 = neumann_move(g2)\n",
        "      else:\n",
        "        g2 = random_graph()\n",
        "        for i in range(np.random.randint(1,11)):\n",
        "          g1 = neumann_move(g1)\n",
        "        for i in range(np.random.randint(1,11)):\n",
        "          g2 = neumann_move(g2)\n",
        "      #y = torch.tensor([pos]).unsqueeze(1)\n",
        "      if pos == 1:\n",
        "        y = torch.tensor([pos])\n",
        "      else:\n",
        "        y = torch.tensor([0])\n",
        "      \n",
        "      # Normalize\n",
        "      g1.x = F.normalize(g1.x, p = 2, dim = 0)\n",
        "      g2.x = F.normalize(g2.x, p = 2, dim = 0)\n",
        "\n",
        "      # Save\n",
        "      data_list.append(PairData(g1.edge_index, g1.x, g2.edge_index, g2.x, y))\n",
        "    return data_list"
      ],
      "metadata": {
        "id": "x1DyKTgdVSzz",
        "cellView": "form"
      },
      "execution_count": 9,
      "outputs": []
    },
    {
      "cell_type": "code",
      "source": [
        "#@title Create Sets for training and testing { form-width: \"320px\" }\n",
        "#import torch_geometric.transforms as T\n",
        "\n",
        "dataset = generate_dataset(n_pairs = 1500)\n",
        "#dataset.transform = T.NormalizeFeatures()\n",
        "data_size = len(dataset)\n",
        "train_loader = DataLoader(dataset[:int(data_size * 0.8)], batch_size=32, shuffle=True, follow_batch=['x_s', 'x_t'])\n",
        "test_loader = DataLoader(dataset[int(data_size * 0.8):], batch_size=32, shuffle=True, follow_batch=['x_s', 'x_t'])"
      ],
      "metadata": {
        "id": "EIlzvEqj4mrt",
        "cellView": "form"
      },
      "execution_count": 10,
      "outputs": []
    },
    {
      "cell_type": "markdown",
      "source": [
        "# 4. Several Models and Testing"
      ],
      "metadata": {
        "id": "bDdNI1qsnPpo"
      }
    },
    {
      "cell_type": "markdown",
      "source": [
        "## 4.1 Model (1) - GINConv Layers"
      ],
      "metadata": {
        "id": "mqSxVMaicQcA"
      }
    },
    {
      "cell_type": "code",
      "source": [
        "#@title Making 'GNNStack' model with GINConv layers { form-width: \"320px\" }\n",
        "\n",
        "class GNNStack(nn.Module):\n",
        "    def __init__(self, input_dim, hidden_dim, output_dim):\n",
        "        super(GNNStack, self).__init__()\n",
        "        self.convs = nn.ModuleList()\n",
        "        self.convs.append(self.build_conv_model(input_dim, hidden_dim))\n",
        "        self.lns = nn.ModuleList()\n",
        "        self.lns.append(nn.LayerNorm(hidden_dim))\n",
        "        self.lns.append(nn.LayerNorm(hidden_dim))\n",
        "        for l in range(2):\n",
        "            self.convs.append(self.build_conv_model(hidden_dim, hidden_dim))\n",
        "\n",
        "        # post-message-passing\n",
        "        self.post_mp = nn.Sequential(\n",
        "            nn.Linear(2*hidden_dim, 2*hidden_dim), nn.Dropout(0.25), \n",
        "            nn.Linear(2*hidden_dim, output_dim))\n",
        "        \n",
        "        self.dropout = 0.25\n",
        "        self.num_layers = 3\n",
        "\n",
        "    def build_conv_model(self, input_dim, hidden_dim):\n",
        "      #return pyg_nn.GCNConv(input_dim, hidden_dim)\n",
        "        return pyg_nn.GINConv(nn.Sequential(nn.Linear(input_dim, hidden_dim), nn.ReLU(), nn.Linear(hidden_dim, hidden_dim)))\n",
        "\n",
        "    def forward(self, data):\n",
        "        x_s, edge_index_s, x_t, edge_index_t, x_s_batch, x_t_batch = data.x_s, data.edge_index_s, data.x_t, data.edge_index_t, data.x_s_batch, data.x_t_batch\n",
        "        \n",
        "        for i in range(self.num_layers):\n",
        "            x_s = self.convs[i](x_s, edge_index_s)\n",
        "            x_s = F.relu(x_s)\n",
        "            x_s = F.dropout(x_s, p=self.dropout, training=self.training)\n",
        "            if not i == self.num_layers - 1:\n",
        "                x_s = self.lns[i](x_s)\n",
        "\n",
        "        x_s = pyg_nn.global_mean_pool(x_s, x_s_batch)\n",
        "\n",
        "        for i in range(self.num_layers):\n",
        "            x_t = self.convs[i](x_t, edge_index_t)\n",
        "            x_t = F.relu(x_t)\n",
        "            x_t = F.dropout(x_t, p=self.dropout, training=self.training)\n",
        "            if not i == self.num_layers - 1:\n",
        "                x_t = self.lns[i](x_t)\n",
        "\n",
        "        x_t = pyg_nn.global_mean_pool(x_t, x_t_batch)\n",
        "\n",
        "        x = torch.cat((x_s, x_t), dim = 1)\n",
        "        x = self.post_mp(x)\n",
        "        \n",
        "\n",
        "        return x\n",
        "model_1 = GNNStack(1, hidden_dim=64, output_dim = 2)\n",
        "print(model_1)"
      ],
      "metadata": {
        "id": "0ya1eU0anPCX",
        "colab": {
          "base_uri": "https://localhost:8080/"
        },
        "cellView": "form",
        "outputId": "5d62aa69-3082-43c6-cb5e-0274d70d6907"
      },
      "execution_count": 11,
      "outputs": [
        {
          "output_type": "stream",
          "name": "stdout",
          "text": [
            "GNNStack(\n",
            "  (convs): ModuleList(\n",
            "    (0): GINConv(nn=Sequential(\n",
            "      (0): Linear(in_features=1, out_features=64, bias=True)\n",
            "      (1): ReLU()\n",
            "      (2): Linear(in_features=64, out_features=64, bias=True)\n",
            "    ))\n",
            "    (1): GINConv(nn=Sequential(\n",
            "      (0): Linear(in_features=64, out_features=64, bias=True)\n",
            "      (1): ReLU()\n",
            "      (2): Linear(in_features=64, out_features=64, bias=True)\n",
            "    ))\n",
            "    (2): GINConv(nn=Sequential(\n",
            "      (0): Linear(in_features=64, out_features=64, bias=True)\n",
            "      (1): ReLU()\n",
            "      (2): Linear(in_features=64, out_features=64, bias=True)\n",
            "    ))\n",
            "  )\n",
            "  (lns): ModuleList(\n",
            "    (0): LayerNorm((64,), eps=1e-05, elementwise_affine=True)\n",
            "    (1): LayerNorm((64,), eps=1e-05, elementwise_affine=True)\n",
            "  )\n",
            "  (post_mp): Sequential(\n",
            "    (0): Linear(in_features=128, out_features=128, bias=True)\n",
            "    (1): Dropout(p=0.25, inplace=False)\n",
            "    (2): Linear(in_features=128, out_features=2, bias=True)\n",
            "  )\n",
            ")\n"
          ]
        }
      ]
    },
    {
      "cell_type": "code",
      "source": [
        "#@title Train and Test Functions { form-width: \"320px\" }\n",
        "def train():\n",
        "    model.train()\n",
        "\n",
        "    for data in train_loader:  # Iterate in batches over the training dataset.\n",
        "         x = model(data)  # Perform a single forward pass.\n",
        "         loss = criterion(x, data.y)  # Compute the loss.\n",
        "         optimizer.zero_grad()\n",
        "         loss.backward()  # Derive gradients.\n",
        "         optimizer.step()  # Update parameters based on gradients.\n",
        "         #optimizer.zero_grad()  # Clear gradients.\n",
        "\n",
        "def test(loader):\n",
        "  model.eval()\n",
        "  correct = 0\n",
        "  #loss = 0\n",
        "  for data in loader:  # Iterate in batches over the training/test dataset.\n",
        "      out = model(data)  \n",
        "      pred = out.argmax(dim=1)  # Use the class with highest probability.\n",
        "      correct += int((pred == data.y).sum())  # Check against ground-truth labels.\n",
        "  return correct / len(loader.dataset)  # Derive ratio of correct predictions."
      ],
      "metadata": {
        "cellView": "form",
        "id": "WDreK1OddbQX"
      },
      "execution_count": 12,
      "outputs": []
    },
    {
      "cell_type": "code",
      "source": [
        "#@title Test Model-1 { form-width: \"320px\" }\n",
        "model = model_1\n",
        "optimizer = torch.optim.Adam(model.parameters(), lr=0.01)\n",
        "criterion = torch.nn.CrossEntropyLoss()\n",
        "train_acc = []\n",
        "test_acc = []\n",
        "print('Results from GNNStack model with GINConv Layers')\n",
        "print('==================================================')\n",
        "for epoch in range(1, 201):\n",
        "    train()\n",
        "    trainx = test(train_loader)\n",
        "    testx = test(test_loader)\n",
        "    train_acc.append(trainx)\n",
        "    test_acc.append(testx)\n",
        "    if epoch == 1 or epoch % 20 == 0:\n",
        "        print(f'Epoch: {epoch:03d}, Train Acc: {trainx:.4f}, Test Acc: {testx:.4f}')\n",
        "print('==================================================')\n",
        "print('Train Accuracy:')\n",
        "print(f'    Minimum {np.min(train_acc) : .4f} \\n    Maximum {np.max(train_acc) : .4f}')\n",
        "print('Test Accuracy:')\n",
        "print(f'    Minimum {np.min(test_acc) : .4f} \\n    Maximum {np.max(test_acc) : .4f}')\n",
        "\n",
        "fig, ax = plt.subplots()\n",
        "epoch = range(1, 201)\n",
        "ax.plot(epoch, train_acc)\n",
        "ax.set_xlabel('Epochs')  # Add an x-label to the axes.\n",
        "ax.set_ylabel('Accuracy')  # Add a y-label to the axes.\n",
        "ax.set_title(\"Train Accuracy Curve\")  # Add a title to the axes.\n",
        "plt.show()"
      ],
      "metadata": {
        "colab": {
          "base_uri": "https://localhost:8080/",
          "height": 642
        },
        "cellView": "form",
        "id": "JcJM5D2ZdsVi",
        "outputId": "4263e586-54de-499d-a7b7-e5674a0ca7e3"
      },
      "execution_count": 13,
      "outputs": [
        {
          "output_type": "stream",
          "name": "stdout",
          "text": [
            "Results from GNNStack model with GINConv Layers\n",
            "==================================================\n",
            "Epoch: 001, Train Acc: 0.5375, Test Acc: 0.5000\n",
            "Epoch: 020, Train Acc: 0.5375, Test Acc: 0.5000\n",
            "Epoch: 040, Train Acc: 0.5375, Test Acc: 0.5000\n",
            "Epoch: 060, Train Acc: 0.5375, Test Acc: 0.5000\n",
            "Epoch: 080, Train Acc: 0.5375, Test Acc: 0.5000\n",
            "Epoch: 100, Train Acc: 0.5375, Test Acc: 0.5000\n",
            "Epoch: 120, Train Acc: 0.5375, Test Acc: 0.5000\n",
            "Epoch: 140, Train Acc: 0.4625, Test Acc: 0.5000\n",
            "Epoch: 160, Train Acc: 0.5375, Test Acc: 0.5000\n",
            "Epoch: 180, Train Acc: 0.5375, Test Acc: 0.5000\n",
            "Epoch: 200, Train Acc: 0.5375, Test Acc: 0.5000\n",
            "==================================================\n",
            "Train Accuracy:\n",
            "    Minimum  0.4625 \n",
            "    Maximum  0.5375\n",
            "Test Accuracy:\n",
            "    Minimum  0.5000 \n",
            "    Maximum  0.5000\n"
          ]
        },
        {
          "output_type": "display_data",
          "data": {
            "text/plain": [
              "<Figure size 432x288 with 1 Axes>"
            ],
            "image/png": "[encoded data removed]"
          },
          "metadata": {
            "needs_background": "light"
          }
        }
      ]
    },
    {
      "cell_type": "markdown",
      "source": [
        "The test tells us that the model with `GINConv` layers does not learn at all and it is not useful for us."
      ],
      "metadata": {
        "id": "2lzyt74YzjXS"
      }
    },
    {
      "cell_type": "markdown",
      "source": [
        "## 4.2 Model (2) - GCNConv Layers"
      ],
      "metadata": {
        "id": "aMZkYOdVdQ2b"
      }
    },
    {
      "cell_type": "code",
      "source": [
        "#@title Making 'GCN' model with GCNConv layers { form-width: \"320px\" }\n",
        "class GCN(torch.nn.Module):\n",
        "    def __init__(self, hidden_channels):\n",
        "        super(GCN, self).__init__()\n",
        "        torch.manual_seed(12345)\n",
        "        self.conv1 = pyg_nn.GCNConv(1, hidden_channels)\n",
        "        self.conv2 = pyg_nn.GCNConv(hidden_channels, hidden_channels)\n",
        "        self.conv3 = pyg_nn.GCNConv(hidden_channels, hidden_channels)\n",
        "        self.lin = nn.Linear(2*hidden_channels, 2)\n",
        "\n",
        "    def forward(self, data):\n",
        "        # 1. Obtain node embeddings for x_s\n",
        "        x_s = self.conv1(data.x_s, data.edge_index_s)\n",
        "        x_s = x_s.relu()\n",
        "        x_s = self.conv2(x_s, data.edge_index_s)\n",
        "        x_s = x_s.relu()\n",
        "        x_s = self.conv3(x_s, data.edge_index_s)\n",
        "\n",
        "        # 2. Obtain node embeddings for x_t\n",
        "        x_t = self.conv1(data.x_t, data.edge_index_t)\n",
        "        x_t = x_t.relu()\n",
        "        x_t = self.conv2(x_t, data.edge_index_t)\n",
        "        x_t = x_t.relu()\n",
        "        x_t = self.conv3(x_t, data.edge_index_t)\n",
        "\n",
        "        # 3. Readout layer\n",
        "        x_s = pyg_nn.global_mean_pool(x_s, data.x_s_batch)\n",
        "        x_t = pyg_nn.global_mean_pool(x_t, data.x_t_batch)\n",
        "        x = torch.cat((x_s, x_t), dim = 1)\n",
        "\n",
        "        # 4. Apply a final classifier\n",
        "        x = F.dropout(x, p=0.5, training=self.training)\n",
        "        x = self.lin(x)\n",
        "        \n",
        "        return x\n",
        "\n",
        "model_2 = GCN(hidden_channels=64)\n",
        "print(model_2)"
      ],
      "metadata": {
        "colab": {
          "base_uri": "https://localhost:8080/"
        },
        "cellView": "form",
        "id": "I-Wbk7KYXzPz",
        "outputId": "06a52443-7973-44df-816f-64c0b5192d78"
      },
      "execution_count": 14,
      "outputs": [
        {
          "output_type": "stream",
          "name": "stdout",
          "text": [
            "GCN(\n",
            "  (conv1): GCNConv(1, 64)\n",
            "  (conv2): GCNConv(64, 64)\n",
            "  (conv3): GCNConv(64, 64)\n",
            "  (lin): Linear(in_features=128, out_features=2, bias=True)\n",
            ")\n"
          ]
        }
      ]
    },
    {
      "cell_type": "code",
      "source": [
        "#@title Test Model-2 { form-width: \"320px\" }\n",
        "model = model_2\n",
        "optimizer = torch.optim.Adam(model.parameters(), lr=0.01)\n",
        "criterion = torch.nn.CrossEntropyLoss()\n",
        "train_acc = []\n",
        "test_acc = []\n",
        "print('Results from GCN model with GCNConv Layers')\n",
        "print('===========================================')\n",
        "for epoch in range(1, 401):\n",
        "    train()\n",
        "    trainx = test(train_loader)\n",
        "    testx = test(test_loader)\n",
        "    train_acc.append(trainx)\n",
        "    test_acc.append(testx)\n",
        "    if epoch == 1 or epoch % 20 == 0:\n",
        "        print(f'Epoch: {epoch:03d}, Train Acc: {trainx:.4f}, Test Acc: {testx:.4f}')\n",
        "print('===========================================')\n",
        "print('Train Accuracy:')\n",
        "print(f'    Minimum {np.min(train_acc) : .4f} \\n    Maximum {np.max(train_acc) : .4f} ')\n",
        "print('Test Accuracy:')\n",
        "print(f'    Minimum {np.min(test_acc) : .4f} \\n    Maximum {np.max(test_acc) : .4f} ')\n",
        "\n",
        "fig, ax = plt.subplots()\n",
        "epoch = range(1, 401)\n",
        "ax.plot(epoch, train_acc)\n",
        "ax.set_xlabel('Epochs')  # Add an x-label to the axes.\n",
        "ax.set_ylabel('Accuracy')  # Add a y-label to the axes.\n",
        "ax.set_title(\"Train Accuracy Curve\")  # Add a title to the axes.\n",
        "plt.show()"
      ],
      "metadata": {
        "colab": {
          "base_uri": "https://localhost:8080/",
          "height": 816
        },
        "id": "wQySN1q93FUQ",
        "outputId": "c783a1fd-c838-4505-9255-5cad61618fea",
        "cellView": "form"
      },
      "execution_count": 15,
      "outputs": [
        {
          "output_type": "stream",
          "name": "stdout",
          "text": [
            "Results from GCN model with GCNConv Layers\n",
            "===========================================\n",
            "Epoch: 001, Train Acc: 0.4533, Test Acc: 0.4933\n",
            "Epoch: 020, Train Acc: 0.6283, Test Acc: 0.6567\n",
            "Epoch: 040, Train Acc: 0.6808, Test Acc: 0.6500\n",
            "Epoch: 060, Train Acc: 0.6692, Test Acc: 0.6033\n",
            "Epoch: 080, Train Acc: 0.6808, Test Acc: 0.6333\n",
            "Epoch: 100, Train Acc: 0.6733, Test Acc: 0.6467\n",
            "Epoch: 120, Train Acc: 0.6450, Test Acc: 0.6767\n",
            "Epoch: 140, Train Acc: 0.6708, Test Acc: 0.6300\n",
            "Epoch: 160, Train Acc: 0.6608, Test Acc: 0.6033\n",
            "Epoch: 180, Train Acc: 0.6683, Test Acc: 0.6233\n",
            "Epoch: 200, Train Acc: 0.6100, Test Acc: 0.6533\n",
            "Epoch: 220, Train Acc: 0.6650, Test Acc: 0.6300\n",
            "Epoch: 240, Train Acc: 0.6658, Test Acc: 0.6267\n",
            "Epoch: 260, Train Acc: 0.6667, Test Acc: 0.6167\n",
            "Epoch: 280, Train Acc: 0.6733, Test Acc: 0.6400\n",
            "Epoch: 300, Train Acc: 0.6808, Test Acc: 0.6400\n",
            "Epoch: 320, Train Acc: 0.6750, Test Acc: 0.6333\n",
            "Epoch: 340, Train Acc: 0.6883, Test Acc: 0.6600\n",
            "Epoch: 360, Train Acc: 0.6783, Test Acc: 0.6233\n",
            "Epoch: 380, Train Acc: 0.6775, Test Acc: 0.6300\n",
            "Epoch: 400, Train Acc: 0.6758, Test Acc: 0.6133\n",
            "===========================================\n",
            "Train Accuracy:\n",
            "    Minimum  0.4533 \n",
            "    Maximum  0.6933 \n",
            "Test Accuracy:\n",
            "    Minimum  0.4933 \n",
            "    Maximum  0.6900 \n"
          ]
        },
        {
          "output_type": "display_data",
          "data": {
            "text/plain": [
              "<Figure size 432x288 with 1 Axes>"
            ],
            "image/png": "[encoded data removed]"
          },
          "metadata": {
            "needs_background": "light"
          }
        }
      ]
    },
    {
      "cell_type": "markdown",
      "source": [
        "The model with `GCNConv` layers works better than the previous model with `GINConv` layers, but train accuracy is still lower than 70 %."
      ],
      "metadata": {
        "id": "vt5eg-Rdz-Zn"
      }
    },
    {
      "cell_type": "markdown",
      "source": [
        "## 4.3 Model (3) - GraphConv Layers"
      ],
      "metadata": {
        "id": "RAMzbA00lMfP"
      }
    },
    {
      "cell_type": "code",
      "source": [
        "#@title 'GNN' model with GraphConv Layers { form-width: \"320px\" }\n",
        "from torch_geometric.nn import GraphConv\n",
        "\n",
        "\n",
        "class GNN(torch.nn.Module):\n",
        "    def __init__(self, hidden_channels):\n",
        "        super(GNN, self).__init__()\n",
        "        torch.manual_seed(12345)\n",
        "        self.conv1 = GraphConv(1, hidden_channels)\n",
        "        self.conv2 = GraphConv(hidden_channels, hidden_channels)\n",
        "        self.conv3 = GraphConv(hidden_channels, hidden_channels)\n",
        "        self.lin = nn.Linear(2*hidden_channels, 2)\n",
        "\n",
        "    def forward(self, data):\n",
        "        # 1. Obtain node embeddings for x_s\n",
        "        x_s = self.conv1(data.x_s, data.edge_index_s)\n",
        "        x_s = x_s.relu()\n",
        "        x_s = self.conv2(x_s, data.edge_index_s)\n",
        "        x_s = x_s.relu()\n",
        "        x_s = self.conv3(x_s, data.edge_index_s)\n",
        "\n",
        "        # 2. Obtain node embeddings for x_t\n",
        "        x_t = self.conv1(data.x_t, data.edge_index_t)\n",
        "        x_t = x_t.relu()\n",
        "        x_t = self.conv2(x_t, data.edge_index_t)\n",
        "        x_t = x_t.relu()\n",
        "        x_t = self.conv3(x_t, data.edge_index_t)\n",
        "\n",
        "        # 3. Readout layer\n",
        "        x_s = pyg_nn.global_mean_pool(x_s, data.x_s_batch)\n",
        "        x_t = pyg_nn.global_mean_pool(x_t, data.x_t_batch)\n",
        "        x = torch.cat((x_s, x_t), dim = 1)\n",
        "\n",
        "        # 4. Apply a final classifier\n",
        "        x = F.dropout(x, p=0.5, training=self.training)\n",
        "        x = self.lin(x)\n",
        "        \n",
        "        return x\n",
        "\n",
        "model_3 = GNN(hidden_channels=64)\n",
        "print(model_3)"
      ],
      "metadata": {
        "colab": {
          "base_uri": "https://localhost:8080/"
        },
        "cellView": "form",
        "id": "_TI4MPu0aZqY",
        "outputId": "1dc2e9d8-134e-45f8-e30c-a52b4ff8af97"
      },
      "execution_count": 16,
      "outputs": [
        {
          "output_type": "stream",
          "name": "stdout",
          "text": [
            "GNN(\n",
            "  (conv1): GraphConv(1, 64)\n",
            "  (conv2): GraphConv(64, 64)\n",
            "  (conv3): GraphConv(64, 64)\n",
            "  (lin): Linear(in_features=128, out_features=2, bias=True)\n",
            ")\n"
          ]
        }
      ]
    },
    {
      "cell_type": "code",
      "source": [
        "#@title Test Model-3 { form-width: \"320px\" }\n",
        "model = model_3\n",
        "optimizer = torch.optim.Adam(model.parameters(), lr=0.01)\n",
        "criterion = torch.nn.CrossEntropyLoss()\n",
        "\n",
        "train_acc = []\n",
        "test_acc = []\n",
        "print('Results from GNN model with GraphConv Layers')\n",
        "print('===========================================')\n",
        "for epoch in range(1, 401):\n",
        "    train()\n",
        "    trainx = test(train_loader)\n",
        "    testx = test(test_loader)\n",
        "    train_acc.append(trainx)\n",
        "    test_acc.append(testx)\n",
        "    if epoch == 1 or epoch % 20 == 0:\n",
        "        print(f'Epoch: {epoch:03d}, Train Acc: {trainx:.4f}, Test Acc: {testx:.4f}')\n",
        "print('===========================================')\n",
        "print('Train Accuracy:')\n",
        "print(f'    Minimum {np.min(train_acc) : .4f} \\n    Maximum {np.max(train_acc) : .4f} ')\n",
        "print('Test Accuracy:')\n",
        "print(f'    Minimum {np.min(test_acc) : .4f} \\n    Maximum {np.max(test_acc) : .4f} ')\n",
        "\n",
        "fig, ax = plt.subplots()\n",
        "epoch = range(1, 401)\n",
        "ax.plot(epoch, train_acc)\n",
        "ax.set_xlabel('Epochs')  # Add an x-label to the axes.\n",
        "ax.set_ylabel('Accuracy')  # Add a y-label to the axes.\n",
        "ax.set_title(\"Train Accuracy Curve\")  # Add a title to the axes.\n",
        "plt.show()"
      ],
      "metadata": {
        "colab": {
          "base_uri": "https://localhost:8080/",
          "height": 816
        },
        "cellView": "form",
        "id": "6DS-gjS8a_U4",
        "outputId": "811497a9-3ffd-416e-8a8c-08cb7978c94c"
      },
      "execution_count": 17,
      "outputs": [
        {
          "output_type": "stream",
          "name": "stdout",
          "text": [
            "Results from GNN model with GraphConv Layers\n",
            "===========================================\n",
            "Epoch: 001, Train Acc: 0.5375, Test Acc: 0.5000\n",
            "Epoch: 020, Train Acc: 0.5375, Test Acc: 0.5000\n",
            "Epoch: 040, Train Acc: 0.5375, Test Acc: 0.5000\n",
            "Epoch: 060, Train Acc: 0.4625, Test Acc: 0.5000\n",
            "Epoch: 080, Train Acc: 0.5375, Test Acc: 0.5000\n",
            "Epoch: 100, Train Acc: 0.5375, Test Acc: 0.5000\n",
            "Epoch: 120, Train Acc: 0.5375, Test Acc: 0.5000\n",
            "Epoch: 140, Train Acc: 0.5375, Test Acc: 0.5000\n",
            "Epoch: 160, Train Acc: 0.5375, Test Acc: 0.5000\n",
            "Epoch: 180, Train Acc: 0.5375, Test Acc: 0.5000\n",
            "Epoch: 200, Train Acc: 0.5375, Test Acc: 0.5000\n",
            "Epoch: 220, Train Acc: 0.5375, Test Acc: 0.5000\n",
            "Epoch: 240, Train Acc: 0.5375, Test Acc: 0.5000\n",
            "Epoch: 260, Train Acc: 0.5375, Test Acc: 0.5000\n",
            "Epoch: 280, Train Acc: 0.5375, Test Acc: 0.5000\n",
            "Epoch: 300, Train Acc: 0.5375, Test Acc: 0.5000\n",
            "Epoch: 320, Train Acc: 0.5375, Test Acc: 0.5000\n",
            "Epoch: 340, Train Acc: 0.5375, Test Acc: 0.5000\n",
            "Epoch: 360, Train Acc: 0.5375, Test Acc: 0.5000\n",
            "Epoch: 380, Train Acc: 0.5375, Test Acc: 0.5000\n",
            "Epoch: 400, Train Acc: 0.5375, Test Acc: 0.5000\n",
            "===========================================\n",
            "Train Accuracy:\n",
            "    Minimum  0.4625 \n",
            "    Maximum  0.5375 \n",
            "Test Accuracy:\n",
            "    Minimum  0.5000 \n",
            "    Maximum  0.5000 \n"
          ]
        },
        {
          "output_type": "display_data",
          "data": {
            "text/plain": [
              "<Figure size 432x288 with 1 Axes>"
            ],
            "image/png": "[encoded data removed]"
          },
          "metadata": {
            "needs_background": "light"
          }
        }
      ]
    },
    {
      "cell_type": "markdown",
      "source": [
        "Sometimes, it works well, but it refuses to work sometimes. (Don't know why. Seems like it depends on randomly chosen dataset.)\n",
        "\n",
        "When the model works well, it performs best among previous 3 models.\n",
        "\n",
        "Now we are going to build a model using two promising layers `GCNConv` and `GraphConv` and test it."
      ],
      "metadata": {
        "id": "w28DRx-d0TYB"
      }
    },
    {
      "cell_type": "code",
      "source": [
        "#@title GNN Model with mixed layers using `GCNConv` and `GraphConv`. { form-width: \"320px\" }\n",
        "class Two_Convs(torch.nn.Module):\n",
        "    def __init__(self, hidden_channels):\n",
        "        super(Two_Convs, self).__init__()\n",
        "        torch.manual_seed(12345)\n",
        "        self.conv1 = GraphConv(1, hidden_channels)\n",
        "        self.conv2 = pyg_nn.GCNConv(hidden_channels, hidden_channels)\n",
        "        self.conv3 = GraphConv(hidden_channels, hidden_channels)\n",
        "        self.lin = nn.Linear(2*hidden_channels, 2)\n",
        "\n",
        "    def forward(self, data):\n",
        "        # 1. Obtain node embeddings for x_s\n",
        "        x_s = self.conv1(data.x_s, data.edge_index_s)\n",
        "        x_s = x_s.relu()\n",
        "        x_s = self.conv2(x_s, data.edge_index_s)\n",
        "        x_s = x_s.relu()\n",
        "        x_s = self.conv3(x_s, data.edge_index_s)\n",
        "\n",
        "        # 2. Obtain node embeddings for x_t\n",
        "        x_t = self.conv1(data.x_t, data.edge_index_t)\n",
        "        x_t = x_t.relu()\n",
        "        x_t = self.conv2(x_t, data.edge_index_t)\n",
        "        x_t = x_t.relu()\n",
        "        x_t = self.conv3(x_t, data.edge_index_t)\n",
        "\n",
        "        # 3. Readout layer\n",
        "        x_s = pyg_nn.global_mean_pool(x_s, data.x_s_batch)\n",
        "        x_t = pyg_nn.global_mean_pool(x_t, data.x_t_batch)\n",
        "        x = torch.cat((x_s, x_t), dim = 1)\n",
        "\n",
        "        # 4. Apply a final classifier\n",
        "        x = F.dropout(x, p=0.5, training=self.training)\n",
        "        x = self.lin(x)\n",
        "        \n",
        "        return x\n",
        "\n",
        "model_4 = Two_Convs(hidden_channels=64)\n",
        "print(model_4)"
      ],
      "metadata": {
        "colab": {
          "base_uri": "https://localhost:8080/"
        },
        "cellView": "form",
        "id": "elvXT0sr7Mji",
        "outputId": "8de32aac-2118-4a16-c39b-d12bc5249bf4"
      },
      "execution_count": 18,
      "outputs": [
        {
          "output_type": "stream",
          "name": "stdout",
          "text": [
            "Two_Convs(\n",
            "  (conv1): GraphConv(1, 64)\n",
            "  (conv2): GCNConv(64, 64)\n",
            "  (conv3): GraphConv(64, 64)\n",
            "  (lin): Linear(in_features=128, out_features=2, bias=True)\n",
            ")\n"
          ]
        }
      ]
    },
    {
      "cell_type": "code",
      "source": [
        "#@title Test Model-4 { form-width: \"320px\" }\n",
        "model = model_4\n",
        "optimizer = torch.optim.Adam(model.parameters(), lr=0.01)\n",
        "criterion = torch.nn.CrossEntropyLoss()\n",
        "\n",
        "train_acc = []\n",
        "test_acc = []\n",
        "print('Results from `Two_Conv` model with GraphConv and GCNConv Layers')\n",
        "print('===========================================')\n",
        "for epoch in range(1, 401):\n",
        "    train()\n",
        "    trainx = test(train_loader)\n",
        "    testx = test(test_loader)\n",
        "    train_acc.append(trainx)\n",
        "    test_acc.append(testx)\n",
        "    if epoch == 1 or epoch % 20 == 0:\n",
        "        print(f'Epoch: {epoch:03d}, Train Acc: {trainx:.4f}, Test Acc: {testx:.4f}')\n",
        "print('===========================================')\n",
        "print('Train Accuracy:')\n",
        "print(f'    Minimum {np.min(train_acc) : .4f} \\n    Maximum {np.max(train_acc) : .4f} ')\n",
        "print('Test Accuracy:')\n",
        "print(f'    Minimum {np.min(test_acc) : .4f} \\n    Maximum {np.max(test_acc) : .4f} ')\n",
        "\n",
        "fig, ax = plt.subplots()\n",
        "epoch = range(1, 401)\n",
        "ax.plot(epoch, train_acc)\n",
        "ax.set_xlabel('Epochs')  # Add an x-label to the axes.\n",
        "ax.set_ylabel('Accuracy')  # Add a y-label to the axes.\n",
        "ax.set_title(\"Train Accuracy Curve\")  # Add a title to the axes.\n",
        "plt.show()"
      ],
      "metadata": {
        "colab": {
          "base_uri": "https://localhost:8080/",
          "height": 816
        },
        "cellView": "form",
        "id": "Qs3O2f4T7psH",
        "outputId": "13c18509-ff68-4f4f-e920-2f33b9ae13f8"
      },
      "execution_count": 19,
      "outputs": [
        {
          "output_type": "stream",
          "name": "stdout",
          "text": [
            "Results from `Two_Conv` model with GraphConv and GCNConv Layers\n",
            "===========================================\n",
            "Epoch: 001, Train Acc: 0.6750, Test Acc: 0.6467\n",
            "Epoch: 020, Train Acc: 0.6867, Test Acc: 0.6500\n",
            "Epoch: 040, Train Acc: 0.7108, Test Acc: 0.6700\n",
            "Epoch: 060, Train Acc: 0.7217, Test Acc: 0.7033\n",
            "Epoch: 080, Train Acc: 0.7367, Test Acc: 0.7267\n",
            "Epoch: 100, Train Acc: 0.7550, Test Acc: 0.7300\n",
            "Epoch: 120, Train Acc: 0.7408, Test Acc: 0.7500\n",
            "Epoch: 140, Train Acc: 0.7275, Test Acc: 0.7100\n",
            "Epoch: 160, Train Acc: 0.7225, Test Acc: 0.7233\n",
            "Epoch: 180, Train Acc: 0.7550, Test Acc: 0.7567\n",
            "Epoch: 200, Train Acc: 0.7725, Test Acc: 0.7433\n",
            "Epoch: 220, Train Acc: 0.7583, Test Acc: 0.7100\n",
            "Epoch: 240, Train Acc: 0.7625, Test Acc: 0.7100\n",
            "Epoch: 260, Train Acc: 0.7450, Test Acc: 0.7000\n",
            "Epoch: 280, Train Acc: 0.7633, Test Acc: 0.7133\n",
            "Epoch: 300, Train Acc: 0.7692, Test Acc: 0.7267\n",
            "Epoch: 320, Train Acc: 0.7750, Test Acc: 0.7333\n",
            "Epoch: 340, Train Acc: 0.7358, Test Acc: 0.6767\n",
            "Epoch: 360, Train Acc: 0.7525, Test Acc: 0.7200\n",
            "Epoch: 380, Train Acc: 0.7792, Test Acc: 0.7300\n",
            "Epoch: 400, Train Acc: 0.7767, Test Acc: 0.7267\n",
            "===========================================\n",
            "Train Accuracy:\n",
            "    Minimum  0.6200 \n",
            "    Maximum  0.7825 \n",
            "Test Accuracy:\n",
            "    Minimum  0.5933 \n",
            "    Maximum  0.7667 \n"
          ]
        },
        {
          "output_type": "display_data",
          "data": {
            "text/plain": [
              "<Figure size 432x288 with 1 Axes>"
            ],
            "image/png": "[encoded data removed]"
          },
          "metadata": {
            "needs_background": "light"
          }
        }
      ]
    },
    {
      "cell_type": "markdown",
      "source": [
        "That's better!"
      ],
      "metadata": {
        "id": "OKm5T7YmJpvo"
      }
    },
    {
      "cell_type": "markdown",
      "source": [
        "## 4.4 Graph Attention Network(GAT)"
      ],
      "metadata": {
        "id": "VckE8BZOTeUu"
      }
    },
    {
      "cell_type": "code",
      "source": [
        "#@title GATConv Layer { form-width: \"320px\" }\n",
        "from torch_geometric.nn import GATConv\n",
        "class GAT(torch.nn.Module):\n",
        "    def __init__(self):\n",
        "        super(GAT, self).__init__()\n",
        "        self.hid = 8\n",
        "        self.in_head = 8\n",
        "        self.out_head = 1\n",
        "        \n",
        "        self.lin = nn.Linear(4, 2)\n",
        "        self.conv1 = GATConv(1, self.hid, heads=self.in_head, dropout=0.5)\n",
        "        self.conv2 = GATConv(self.hid*self.in_head, 2, concat=False,\n",
        "                             heads=self.out_head, dropout=0.5)\n",
        "\n",
        "    def forward(self, data):\n",
        "        x_s, edge_index_s = data.x_s, data.edge_index_s\n",
        "        x_t, edge_index_t = data.x_t, data.edge_index_t\n",
        "        \n",
        "        # Process for x_s        \n",
        "        x_s = F.dropout(x_s, p=0.6, training=self.training)\n",
        "        x_s = self.conv1(x_s, edge_index_s)\n",
        "        x_s = F.elu(x_s)\n",
        "        x_s = F.dropout(x_s, p=0.6, training=self.training)\n",
        "        x_s = self.conv2(x_s, edge_index_s)\n",
        "        \n",
        "        # Process for x_t\n",
        "        x_t = F.dropout(x_t, p=0.6, training=self.training)\n",
        "        x_t = self.conv1(x_t, edge_index_t)\n",
        "        x_t = F.elu(x_t)\n",
        "        x_t = F.dropout(x_t, p=0.6, training=self.training)\n",
        "        x_t = self.conv2(x_t, edge_index_t)\n",
        "\n",
        "        # Concatenate x_s and x_t\n",
        "        x_s = pyg_nn.global_mean_pool(x_s, data.x_s_batch)\n",
        "        x_t = pyg_nn.global_mean_pool(x_t, data.x_t_batch)\n",
        "        x = torch.cat((x_s, x_t), dim = 1)\n",
        "\n",
        "        # Apply a final classifier\n",
        "        x = F.dropout(x, p=0.5, training=self.training)\n",
        "        x = self.lin(x)\n",
        "        return x\n",
        "\n",
        "model_5 = GAT()\n",
        "print(model_5)"
      ],
      "metadata": {
        "colab": {
          "base_uri": "https://localhost:8080/"
        },
        "cellView": "form",
        "id": "7zbcG0LnTZVv",
        "outputId": "e8dfc0d3-0d6a-446c-ab47-cd5e0312fb48"
      },
      "execution_count": 20,
      "outputs": [
        {
          "output_type": "stream",
          "name": "stdout",
          "text": [
            "GAT(\n",
            "  (lin): Linear(in_features=4, out_features=2, bias=True)\n",
            "  (conv1): GATConv(1, 8, heads=8)\n",
            "  (conv2): GATConv(64, 2, heads=1)\n",
            ")\n"
          ]
        }
      ]
    },
    {
      "cell_type": "code",
      "source": [
        "#@title Test Model-5 { form-width: \"320px\" }\n",
        "model = model_5\n",
        "optimizer = torch.optim.Adam(model.parameters(), lr=0.01)\n",
        "criterion = torch.nn.CrossEntropyLoss()\n",
        "\n",
        "train_acc = []\n",
        "test_acc = []\n",
        "print('Results from `GAT` model with two `GATConv` Layers')\n",
        "print('===========================================')\n",
        "for epoch in range(1, 401):\n",
        "    train()\n",
        "    trainx = test(train_loader)\n",
        "    testx = test(test_loader)\n",
        "    train_acc.append(trainx)\n",
        "    test_acc.append(testx)\n",
        "    if epoch == 1 or epoch % 20 == 0:\n",
        "        print(f'Epoch: {epoch:03d}, Train Acc: {trainx:.4f}, Test Acc: {testx:.4f}')\n",
        "print('===========================================')\n",
        "print('Train Accuracy:')\n",
        "print(f'    Minimum {np.min(train_acc) : .4f} \\n    Maximum {np.max(train_acc) : .4f} ')\n",
        "print('Test Accuracy:')\n",
        "print(f'    Minimum {np.min(test_acc) : .4f} \\n    Maximum {np.max(test_acc) : .4f} ')\n",
        "\n",
        "fig, ax = plt.subplots()\n",
        "epoch = range(1, 401)\n",
        "ax.plot(epoch, train_acc)\n",
        "ax.set_xlabel('Epochs')  # Add an x-label to the axes.\n",
        "ax.set_ylabel('Accuracy')  # Add a y-label to the axes.\n",
        "ax.set_title(\"Train Accuracy Curve\")  # Add a title to the axes.\n",
        "plt.show()"
      ],
      "metadata": {
        "colab": {
          "base_uri": "https://localhost:8080/",
          "height": 816
        },
        "id": "zzYZwsZpVVXb",
        "outputId": "19171a28-00b4-455e-850c-f1e10712e3ce"
      },
      "execution_count": 21,
      "outputs": [
        {
          "output_type": "stream",
          "name": "stdout",
          "text": [
            "Results from `GAT` model with two `GATConv` Layers\n",
            "===========================================\n",
            "Epoch: 001, Train Acc: 0.5375, Test Acc: 0.5000\n",
            "Epoch: 020, Train Acc: 0.5592, Test Acc: 0.5433\n",
            "Epoch: 040, Train Acc: 0.5467, Test Acc: 0.5133\n",
            "Epoch: 060, Train Acc: 0.5400, Test Acc: 0.5000\n",
            "Epoch: 080, Train Acc: 0.5450, Test Acc: 0.5167\n",
            "Epoch: 100, Train Acc: 0.5425, Test Acc: 0.5067\n",
            "Epoch: 120, Train Acc: 0.5433, Test Acc: 0.5067\n",
            "Epoch: 140, Train Acc: 0.5583, Test Acc: 0.5400\n",
            "Epoch: 160, Train Acc: 0.5550, Test Acc: 0.5333\n",
            "Epoch: 180, Train Acc: 0.5600, Test Acc: 0.5433\n",
            "Epoch: 200, Train Acc: 0.6067, Test Acc: 0.5867\n",
            "Epoch: 220, Train Acc: 0.5425, Test Acc: 0.5067\n",
            "Epoch: 240, Train Acc: 0.5492, Test Acc: 0.5233\n",
            "Epoch: 260, Train Acc: 0.5642, Test Acc: 0.5367\n",
            "Epoch: 280, Train Acc: 0.5508, Test Acc: 0.5233\n",
            "Epoch: 300, Train Acc: 0.5450, Test Acc: 0.5200\n",
            "Epoch: 320, Train Acc: 0.5642, Test Acc: 0.5433\n",
            "Epoch: 340, Train Acc: 0.5525, Test Acc: 0.5267\n",
            "Epoch: 360, Train Acc: 0.5792, Test Acc: 0.5667\n",
            "Epoch: 380, Train Acc: 0.5533, Test Acc: 0.5300\n",
            "Epoch: 400, Train Acc: 0.5492, Test Acc: 0.5133\n",
            "===========================================\n",
            "Train Accuracy:\n",
            "    Minimum  0.5375 \n",
            "    Maximum  0.6400 \n",
            "Test Accuracy:\n",
            "    Minimum  0.5000 \n",
            "    Maximum  0.6367 \n"
          ]
        },
        {
          "output_type": "display_data",
          "data": {
            "text/plain": [
              "<Figure size 432x288 with 1 Axes>"
            ],
            "image/png": "[encoded data removed]"
          },
          "metadata": {
            "needs_background": "light"
          }
        }
      ]
    },
    {
      "cell_type": "markdown",
      "source": [
        "This is another trash!"
      ],
      "metadata": {
        "id": "HL3m3uQiaVQd"
      }
    }
  ]
}